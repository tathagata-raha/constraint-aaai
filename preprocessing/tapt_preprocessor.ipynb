{
 "cells": [
  {
   "cell_type": "code",
   "execution_count": 1,
   "metadata": {},
   "outputs": [],
   "source": [
    "import pandas as pd"
   ]
  },
  {
   "cell_type": "code",
   "execution_count": 2,
   "metadata": {},
   "outputs": [],
   "source": [
    "train = pd.read_csv('../data/train.tsv', sep='\\t')\n",
    "test = pd.read_csv('../data/valid.tsv', sep='\\t')"
   ]
  },
  {
   "cell_type": "code",
   "execution_count": 3,
   "metadata": {},
   "outputs": [],
   "source": [
    "text = list(train.Post.values)\n",
    "text += list(test.Post.values)"
   ]
  },
  {
   "cell_type": "code",
   "execution_count": 4,
   "metadata": {},
   "outputs": [
    {
     "data": {
      "text/plain": [
       "6286"
      ]
     },
     "execution_count": 4,
     "metadata": {},
     "output_type": "execute_result"
    }
   ],
   "source": [
    "len(text)"
   ]
  },
  {
   "cell_type": "code",
   "execution_count": 5,
   "metadata": {},
   "outputs": [],
   "source": [
    "with open('../temp/tapt-corpus/texts.txt', 'w+') as f:\n",
    "    f.write('\\n'.join(text))"
   ]
  },
  {
   "cell_type": "raw",
   "metadata": {},
   "source": [
    "python -m run_language_modeling --train_data_file ../temp/tapt-corpus/texts.txt \\\n",
    "                                        --line_by_line \\\n",
    "                                        --output_dir \"../temp/tapt-models\" \\\n",
    "                                        --model_type \"ai4bharat/indic-bert\" \\\n",
    "                                        --mlm \\\n",
    "                                        --per_gpu_train_batch_size 4 \\\n",
    "                                        --gradient_accumulation_steps 8  \\\n",
    "                                        --model_name_or_path \"ai4bharat/indic-bert\" \\\n",
    "                                        --do_train \\\n",
    "                                        --num_train_epochs 100  \\\n",
    "                                        --learning_rate 0.0001 \\\n",
    "                                        --logging_steps 50 \\\n",
    "                                        --block_size 128"
   ]
  }
 ],
 "metadata": {
  "kernelspec": {
   "display_name": "Python 3",
   "language": "python",
   "name": "python3"
  },
  "language_info": {
   "codemirror_mode": {
    "name": "ipython",
    "version": 3
   },
   "file_extension": ".py",
   "mimetype": "text/x-python",
   "name": "python",
   "nbconvert_exporter": "python",
   "pygments_lexer": "ipython3",
   "version": "3.9.1"
  }
 },
 "nbformat": 4,
 "nbformat_minor": 4
}
