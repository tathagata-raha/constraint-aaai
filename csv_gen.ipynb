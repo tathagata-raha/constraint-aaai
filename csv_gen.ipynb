{
 "cells": [
  {
   "cell_type": "code",
   "execution_count": null,
   "metadata": {},
   "outputs": [],
   "source": [
    "labels = ['fake','hate', 'defamation','offensive','non-hostile']\n",
    "# lab = labels[lab_num]\n",
    "labels1 = []\n",
    "labels2 = []\n",
    "labels3 = []\n",
    "fs = []\n",
    "for i in labels[:-1]:\n",
    "    temp = []\n",
    "    with open(i+'.txt', 'r') as f:\n",
    "        base = f.read()\n",
    "        base = base.split('\\n')[1:]\n",
    "        for temp1 in base:\n",
    "            temp1 = temp1.split(',')\n",
    "            temp.append(int(temp1[1]))\n",
    "    fs.append(temp)"
   ]
  },
  {
   "cell_type": "code",
   "execution_count": null,
   "metadata": {},
   "outputs": [],
   "source": [
    "len(fs), len(fs[0]), fs[0][:5]"
   ]
  },
  {
   "cell_type": "code",
   "execution_count": null,
   "metadata": {},
   "outputs": [],
   "source": [
    "# fs = []\n",
    "with open('non-hostile.txt', 'r') as f1:\n",
    "    base = f1.read()\n",
    "    base = base.split('\\n')[1:]\n",
    "    count = 0\n",
    "    for nonhos in base:\n",
    "        temp = nonhos.split(',')\n",
    "        if int(temp[1]) == 0:\n",
    "            labels1.append(['non-hostile'])\n",
    "        else:\n",
    "            ll = []\n",
    "            for i in range(len(fs)):\n",
    "                if fs[i][count]:\n",
    "                    ll.append(labels[i])\n",
    "#                 print(fs[i][count])\n",
    "            if len(ll) == 0:\n",
    "                ll.append('non-hostile')\n",
    "            labels1.append(ll)\n",
    "        count += 1\n",
    "templ = []\n",
    "for i in labels1:\n",
    "    templ.append(','.join(i))\n",
    "labels1 = templ"
   ]
  },
  {
   "cell_type": "code",
   "execution_count": null,
   "metadata": {},
   "outputs": [],
   "source": [
    "# fs = []\n",
    "with open('non-hostile.txt', 'r') as f1:\n",
    "    base = f1.read()\n",
    "    base = base.split('\\n')[1:]\n",
    "    count = 0\n",
    "    for nonhos in base:\n",
    "        temp = nonhos.split(',')\n",
    "        if int(temp[1]) == 0:\n",
    "            labels2.append(['non-hostile'])\n",
    "        else:\n",
    "            ll = []\n",
    "            for i in range(len(fs)):\n",
    "                if fs[i][count]:\n",
    "                    ll.append(labels[i])\n",
    "#                 print(fs[i][count])\n",
    "            if len(ll) == 0:\n",
    "                ll.append('fake')\n",
    "            labels2.append(ll)\n",
    "        count += 1\n",
    "templ = []\n",
    "for i in labels2:\n",
    "    templ.append(','.join(i))\n",
    "labels2 = templ"
   ]
  },
  {
   "cell_type": "code",
   "execution_count": null,
   "metadata": {},
   "outputs": [],
   "source": [
    "# fs = []\n",
    "with open('non-hostile.txt', 'r') as f1:\n",
    "    base = f1.read()\n",
    "    base = base.split('\\n')[1:]\n",
    "    count = 0\n",
    "    for nonhos in base:\n",
    "        ll = []\n",
    "        for i in range(len(fs)):\n",
    "            if fs[i][count]:\n",
    "                ll.append(labels[i])\n",
    "#                 print(fs[i][count])\n",
    "        if len(ll) == 0:\n",
    "            ll.append('non-hostile')\n",
    "        labels3.append(ll)\n",
    "        count += 1\n",
    "templ = []\n",
    "for i in labels3:\n",
    "    templ.append(','.join(i))\n",
    "labels3 = templ"
   ]
  },
  {
   "cell_type": "code",
   "execution_count": null,
   "metadata": {},
   "outputs": [],
   "source": [
    "from collections import Counter\n",
    "Counter(labels1), Counter(labels2), Counter(labels3)"
   ]
  },
  {
   "cell_type": "code",
   "execution_count": null,
   "metadata": {},
   "outputs": [],
   "source": [
    "len(labels1), len(labels2), len(labels3)"
   ]
  },
  {
   "cell_type": "code",
   "execution_count": 13,
   "metadata": {
    "execution": {
     "iopub.execute_input": "2020-12-10T10:00:33.961025Z",
     "iopub.status.busy": "2020-12-10T10:00:33.960840Z",
     "iopub.status.idle": "2020-12-10T10:00:33.964284Z",
     "shell.execute_reply": "2020-12-10T10:00:33.963596Z",
     "shell.execute_reply.started": "2020-12-10T10:00:33.961002Z"
    }
   },
   "outputs": [],
   "source": [
    "import pandas as pd\n",
    "df = pd.DataFrame()"
   ]
  },
  {
   "cell_type": "code",
   "execution_count": 14,
   "metadata": {
    "execution": {
     "iopub.execute_input": "2020-12-10T10:00:34.183845Z",
     "iopub.status.busy": "2020-12-10T10:00:34.183705Z",
     "iopub.status.idle": "2020-12-10T10:00:34.188132Z",
     "shell.execute_reply": "2020-12-10T10:00:34.187549Z",
     "shell.execute_reply.started": "2020-12-10T10:00:34.183827Z"
    }
   },
   "outputs": [],
   "source": [
    "df['Unique Id'] = range(1, 1654)\n",
    "df['Labels Set'] = labels3"
   ]
  },
  {
   "cell_type": "code",
   "execution_count": 15,
   "metadata": {
    "execution": {
     "iopub.execute_input": "2020-12-10T10:00:34.421055Z",
     "iopub.status.busy": "2020-12-10T10:00:34.420916Z",
     "iopub.status.idle": "2020-12-10T10:00:34.428639Z",
     "shell.execute_reply": "2020-12-10T10:00:34.428221Z",
     "shell.execute_reply.started": "2020-12-10T10:00:34.421037Z"
    }
   },
   "outputs": [],
   "source": [
    "df.to_csv(path_or_buf='IREL_IIIT_3.csv', index=False, columns = ['Unique Id', 'Labels Set'] )"
   ]
  },
  {
   "cell_type": "code",
   "execution_count": null,
   "metadata": {},
   "outputs": [],
   "source": []
  }
 ],
 "metadata": {
  "kernelspec": {
   "display_name": "Python 3",
   "language": "python",
   "name": "python3"
  },
  "language_info": {
   "codemirror_mode": {
    "name": "ipython",
    "version": 3
   },
   "file_extension": ".py",
   "mimetype": "text/x-python",
   "name": "python",
   "nbconvert_exporter": "python",
   "pygments_lexer": "ipython3",
   "version": "3.8.5"
  }
 },
 "nbformat": 4,
 "nbformat_minor": 4
}
