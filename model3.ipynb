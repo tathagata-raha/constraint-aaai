{
 "cells": [
  {
   "cell_type": "code",
   "execution_count": 31,
   "metadata": {
    "execution": {
     "iopub.execute_input": "2020-12-10T08:51:09.530378Z",
     "iopub.status.busy": "2020-12-10T08:51:09.530052Z",
     "iopub.status.idle": "2020-12-10T08:51:09.536121Z",
     "shell.execute_reply": "2020-12-10T08:51:09.535356Z",
     "shell.execute_reply.started": "2020-12-10T08:51:09.530347Z"
    }
   },
   "outputs": [],
   "source": [
    "# Insert code here.\n",
    "import pandas as pd\n",
    "import numpy as np\n",
    "import random\n",
    "import re\n",
    "import time\n",
    "import datetime\n",
    "from nltk.corpus import stopwords\n",
    "from nltk.tokenize import sent_tokenize\n",
    "from sklearn import model_selection, preprocessing, linear_model, naive_bayes, metrics, svm, neighbors\n",
    "from sklearn.preprocessing import LabelEncoder\n",
    "from transformers import AutoTokenizer, AutoModelForSequenceClassification, AdamW, BertConfig, AutoModel\n",
    "import torch\n",
    "from torch.utils.data import TensorDataset, random_split, DataLoader, RandomSampler, SequentialSampler\n",
    "from transformers import BertForSequenceClassification\n",
    "from transformers import get_linear_schedule_with_warmup\n",
    "import matplotlib.pyplot as plt\n",
    "import seaborn as sns\n",
    "from sklearn.metrics import classification_report\n",
    "from torch.utils.data import Dataset\n",
    "from tqdm import tqdm\n",
    "# from sentence_transformers import SentenceTransformer\n",
    "# sent_encoder = SentenceTransformer('bert-base-nli-mean-tokens')"
   ]
  },
  {
   "cell_type": "code",
   "execution_count": 2,
   "metadata": {
    "execution": {
     "iopub.execute_input": "2020-12-10T07:32:58.455137Z",
     "iopub.status.busy": "2020-12-10T07:32:58.454969Z",
     "iopub.status.idle": "2020-12-10T07:32:58.484606Z",
     "shell.execute_reply": "2020-12-10T07:32:58.484066Z",
     "shell.execute_reply.started": "2020-12-10T07:32:58.455116Z"
    }
   },
   "outputs": [
    {
     "name": "stdout",
     "output_type": "stream",
     "text": [
      "There are 4 GPU(s) available.\n",
      "We will use the GPU: GeForce RTX 2080 Ti\n"
     ]
    }
   ],
   "source": [
    "if torch.cuda.is_available():    \n",
    "\n",
    "    # Tell PyTorch to use the GPU.    \n",
    "    device = torch.device(\"cuda:3\")\n",
    "\n",
    "    print('There are %d GPU(s) available.' % torch.cuda.device_count())\n",
    "\n",
    "    print('We will use the GPU:', torch.cuda.get_device_name(0))\n",
    "\n",
    "# If not...\n",
    "else:\n",
    "    print('No GPU available, using the CPU instead.')\n",
    "    device = torch.device(\"cpu\")\n",
    "torch.cuda.empty_cache()"
   ]
  },
  {
   "cell_type": "code",
   "execution_count": 3,
   "metadata": {
    "execution": {
     "iopub.execute_input": "2020-12-10T07:32:58.485925Z",
     "iopub.status.busy": "2020-12-10T07:32:58.485780Z",
     "iopub.status.idle": "2020-12-10T07:32:59.005142Z",
     "shell.execute_reply": "2020-12-10T07:32:59.004516Z",
     "shell.execute_reply.started": "2020-12-10T07:32:58.485907Z"
    }
   },
   "outputs": [],
   "source": [
    "models = ['ai4bharat/indic-bert', 'distilbert-base-uncased-finetuned-sst-2-english', 'textattack/roberta-base-SST-2','roberta-base', 'google/electra-base-discriminator', 'xlnet-base-cased', 'xlm-roberta-base', '/scratch/indic-tapt','/scratch/indic-tapt2', '/scratch/indic-tapt/checkpoint-500']\n",
    "model_num = 8\n",
    "tokenizer = AutoTokenizer.from_pretrained(models[model_num])\n",
    "lab_num = 4"
   ]
  },
  {
   "cell_type": "code",
   "execution_count": 4,
   "metadata": {
    "execution": {
     "iopub.execute_input": "2020-12-10T07:32:59.006518Z",
     "iopub.status.busy": "2020-12-10T07:32:59.006325Z",
     "iopub.status.idle": "2020-12-10T07:32:59.008782Z",
     "shell.execute_reply": "2020-12-10T07:32:59.008244Z",
     "shell.execute_reply.started": "2020-12-10T07:32:59.006470Z"
    }
   },
   "outputs": [],
   "source": [
    "# train = pd.read_csv('../datasets/covid/Constraint_English_Train - Sheet1.csv')\n",
    "# test = pd.read_csv('../datasets/covid/Constraint_English_Val - Sheet1.csv')"
   ]
  },
  {
   "cell_type": "code",
   "execution_count": 5,
   "metadata": {
    "execution": {
     "iopub.execute_input": "2020-12-10T07:32:59.009571Z",
     "iopub.status.busy": "2020-12-10T07:32:59.009434Z",
     "iopub.status.idle": "2020-12-10T07:32:59.208739Z",
     "shell.execute_reply": "2020-12-10T07:32:59.208147Z",
     "shell.execute_reply.started": "2020-12-10T07:32:59.009553Z"
    }
   },
   "outputs": [],
   "source": [
    "import pickle\n",
    "with open('train.pickle','rb') as f:\n",
    "    train = pickle.load(f)\n",
    "    train = pd.DataFrame.from_dict(train)\n",
    "    train.drop(train.head(1).index, inplace=True)\n",
    "with open('valid.pickle','rb') as f:\n",
    "    valid = pickle.load(f)\n",
    "    valid = pd.DataFrame.from_dict(valid)\n",
    "    valid.drop(valid.head(1).index, inplace=True)\n",
    "with open('test.pickle','rb') as f:\n",
    "    test = pickle.load(f)\n",
    "#     del test['task_1']\n",
    "    test = pd.DataFrame.from_dict(test)\n",
    "#     test.drop(test.head(1).index, inplace=True)\n",
    "#     test = pd.DataFrame.from_dict(test)\n",
    "# test = pd.read_csv('data/valid.tsv', sep='\\t')"
   ]
  },
  {
   "cell_type": "code",
   "execution_count": 6,
   "metadata": {
    "execution": {
     "iopub.execute_input": "2020-12-10T07:32:59.209718Z",
     "iopub.status.busy": "2020-12-10T07:32:59.209567Z",
     "iopub.status.idle": "2020-12-10T07:32:59.244281Z",
     "shell.execute_reply": "2020-12-10T07:32:59.243736Z",
     "shell.execute_reply.started": "2020-12-10T07:32:59.209699Z"
    }
   },
   "outputs": [
    {
     "data": {
      "text/html": [
       "<div>\n",
       "<style scoped>\n",
       "    .dataframe tbody tr th:only-of-type {\n",
       "        vertical-align: middle;\n",
       "    }\n",
       "\n",
       "    .dataframe tbody tr th {\n",
       "        vertical-align: top;\n",
       "    }\n",
       "\n",
       "    .dataframe thead th {\n",
       "        text-align: right;\n",
       "    }\n",
       "</style>\n",
       "<table border=\"1\" class=\"dataframe\">\n",
       "  <thead>\n",
       "    <tr style=\"text-align: right;\">\n",
       "      <th></th>\n",
       "      <th>tweet_id</th>\n",
       "      <th>full_tweet</th>\n",
       "      <th>tweet_raw_text</th>\n",
       "      <th>hashtags</th>\n",
       "      <th>smiley</th>\n",
       "      <th>emoji</th>\n",
       "      <th>url</th>\n",
       "      <th>mentions</th>\n",
       "      <th>numerals</th>\n",
       "      <th>reserved_word</th>\n",
       "      <th>emotext</th>\n",
       "      <th>segmented_hash</th>\n",
       "    </tr>\n",
       "  </thead>\n",
       "  <tbody>\n",
       "    <tr>\n",
       "      <th>0</th>\n",
       "      <td>1</td>\n",
       "      <td>कीस की को रोजगार चाहिए फिर नहीं कहना रोजगार नह...</td>\n",
       "      <td>कीस की को रोजगार चाहिए फिर नहीं कहना रोजगार नह...</td>\n",
       "      <td>[]</td>\n",
       "      <td>[]</td>\n",
       "      <td>[]</td>\n",
       "      <td>[]</td>\n",
       "      <td>[]</td>\n",
       "      <td>[20, 6, 10, 20, 6]</td>\n",
       "      <td>[]</td>\n",
       "      <td>[]</td>\n",
       "      <td>[]</td>\n",
       "    </tr>\n",
       "    <tr>\n",
       "      <th>1</th>\n",
       "      <td>2</td>\n",
       "      <td>पटना: BMP कैंप में पुरुष और महिला कांस्टेबल ने...</td>\n",
       "      <td>पटना :  BMP कैंप में पुरुष और महिला कांस्टेबल ...</td>\n",
       "      <td>[]</td>\n",
       "      <td>[]</td>\n",
       "      <td>[]</td>\n",
       "      <td>[https://t.co/Dq05hREifM]</td>\n",
       "      <td>[@kumarprakash4u]</td>\n",
       "      <td>[]</td>\n",
       "      <td>[]</td>\n",
       "      <td>[]</td>\n",
       "      <td>[]</td>\n",
       "    </tr>\n",
       "    <tr>\n",
       "      <th>2</th>\n",
       "      <td>3</td>\n",
       "      <td>कोई भी कांग्रेसी, ऊंची छत पर, रेलवे लाइन पर, ऊ...</td>\n",
       "      <td>कोई भी कांग्रेसी ,  ऊंची छत पर ,  रेलवे लाइन प...</td>\n",
       "      <td>[]</td>\n",
       "      <td>[]</td>\n",
       "      <td>[🙏, 😂, 👍]</td>\n",
       "      <td>[]</td>\n",
       "      <td>[]</td>\n",
       "      <td>[]</td>\n",
       "      <td>[]</td>\n",
       "      <td>[folded hands, face with tears of joy, thumbs up]</td>\n",
       "      <td>[]</td>\n",
       "    </tr>\n",
       "    <tr>\n",
       "      <th>3</th>\n",
       "      <td>4</td>\n",
       "      <td>अंडरवर्ल्ड डॉन छोटा राजन के भाई को बीजेपी द्वा...</td>\n",
       "      <td>अंडरवर्ल्ड डॉन छोटा राजन के भाई को बीजेपी द्वा...</td>\n",
       "      <td>[]</td>\n",
       "      <td>[]</td>\n",
       "      <td>[]</td>\n",
       "      <td>[]</td>\n",
       "      <td>[]</td>\n",
       "      <td>[]</td>\n",
       "      <td>[]</td>\n",
       "      <td>[]</td>\n",
       "      <td>[]</td>\n",
       "    </tr>\n",
       "    <tr>\n",
       "      <th>4</th>\n",
       "      <td>5</td>\n",
       "      <td>RT @_Pb_swain_: इन पंचर छापों को कोन समझाए कि ...</td>\n",
       "      <td>:  इन पंचर छापों को कोन समझाए कि उनके रोजगार म...</td>\n",
       "      <td>[]</td>\n",
       "      <td>[]</td>\n",
       "      <td>[👇, 😂, 😂, 😂, 😂]</td>\n",
       "      <td>[]</td>\n",
       "      <td>[@_Pb_swain_]</td>\n",
       "      <td>[]</td>\n",
       "      <td>[RT]</td>\n",
       "      <td>[backhand index pointing down, face with tears...</td>\n",
       "      <td>[]</td>\n",
       "    </tr>\n",
       "    <tr>\n",
       "      <th>5</th>\n",
       "      <td>6</td>\n",
       "      <td>पश्चिम बंगाल में फिर हुई माओवादियों की वापसी, ...</td>\n",
       "      <td>पश्चिम बंगाल में फिर हुई माओवादियों की वापसी ,...</td>\n",
       "      <td>[#Maoist, #WestBengal]</td>\n",
       "      <td>[]</td>\n",
       "      <td>[]</td>\n",
       "      <td>[https://t.co/pP1AOvOv0b]</td>\n",
       "      <td>[]</td>\n",
       "      <td>[]</td>\n",
       "      <td>[]</td>\n",
       "      <td>[]</td>\n",
       "      <td>[maoist, west bengal]</td>\n",
       "    </tr>\n",
       "    <tr>\n",
       "      <th>6</th>\n",
       "      <td>7</td>\n",
       "      <td>#Breaking-कंगना मामले पर बोले मनोज तिवारी-कहा ...</td>\n",
       "      <td>#Breaking-कंगना मामले पर बोले मनोज तिवारी-कहा ...</td>\n",
       "      <td>[#Breaking, #Sushantsinghcase, #Kangana]</td>\n",
       "      <td>[]</td>\n",
       "      <td>[]</td>\n",
       "      <td>[https://t.co/szOTZWq1hI]</td>\n",
       "      <td>[]</td>\n",
       "      <td>[]</td>\n",
       "      <td>[]</td>\n",
       "      <td>[]</td>\n",
       "      <td>[breaking, sushantsinghcase, kangana]</td>\n",
       "    </tr>\n",
       "    <tr>\n",
       "      <th>7</th>\n",
       "      <td>8</td>\n",
       "      <td>@BasudebaTripat4: @Rajanspsingh1 अच्छा किया सा...</td>\n",
       "      <td>:  अच्छा किया साले का सर फोड़ दिया ,  ,  गर्दन...</td>\n",
       "      <td>[]</td>\n",
       "      <td>[]</td>\n",
       "      <td>[]</td>\n",
       "      <td>[]</td>\n",
       "      <td>[@BasudebaTripat4, @Rajanspsingh1]</td>\n",
       "      <td>[]</td>\n",
       "      <td>[]</td>\n",
       "      <td>[]</td>\n",
       "      <td>[]</td>\n",
       "    </tr>\n",
       "    <tr>\n",
       "      <th>8</th>\n",
       "      <td>9</td>\n",
       "      <td>हैदराबाद बीजेपी विधायक राजा सिंह की बहन माया द...</td>\n",
       "      <td>हैदराबाद बीजेपी विधायक राजा सिंह की बहन माया द...</td>\n",
       "      <td>[]</td>\n",
       "      <td>[]</td>\n",
       "      <td>[]</td>\n",
       "      <td>[]</td>\n",
       "      <td>[]</td>\n",
       "      <td>[]</td>\n",
       "      <td>[]</td>\n",
       "      <td>[]</td>\n",
       "      <td>[]</td>\n",
       "    </tr>\n",
       "    <tr>\n",
       "      <th>9</th>\n",
       "      <td>10</td>\n",
       "      <td>कमलनाथ के राज में 100,₹ में 100यूनिट बिजली मिल...</td>\n",
       "      <td>कमलनाथ के राज में , ₹ में 100यूनिट बिजली मिल र...</td>\n",
       "      <td>[]</td>\n",
       "      <td>[]</td>\n",
       "      <td>[]</td>\n",
       "      <td>[]</td>\n",
       "      <td>[]</td>\n",
       "      <td>[100, 100, 500, 1000]</td>\n",
       "      <td>[]</td>\n",
       "      <td>[]</td>\n",
       "      <td>[]</td>\n",
       "    </tr>\n",
       "  </tbody>\n",
       "</table>\n",
       "</div>"
      ],
      "text/plain": [
       "  tweet_id                                         full_tweet  \\\n",
       "0        1  कीस की को रोजगार चाहिए फिर नहीं कहना रोजगार नह...   \n",
       "1        2  पटना: BMP कैंप में पुरुष और महिला कांस्टेबल ने...   \n",
       "2        3  कोई भी कांग्रेसी, ऊंची छत पर, रेलवे लाइन पर, ऊ...   \n",
       "3        4  अंडरवर्ल्ड डॉन छोटा राजन के भाई को बीजेपी द्वा...   \n",
       "4        5  RT @_Pb_swain_: इन पंचर छापों को कोन समझाए कि ...   \n",
       "5        6  पश्चिम बंगाल में फिर हुई माओवादियों की वापसी, ...   \n",
       "6        7  #Breaking-कंगना मामले पर बोले मनोज तिवारी-कहा ...   \n",
       "7        8  @BasudebaTripat4: @Rajanspsingh1 अच्छा किया सा...   \n",
       "8        9  हैदराबाद बीजेपी विधायक राजा सिंह की बहन माया द...   \n",
       "9       10  कमलनाथ के राज में 100,₹ में 100यूनिट बिजली मिल...   \n",
       "\n",
       "                                      tweet_raw_text  \\\n",
       "0  कीस की को रोजगार चाहिए फिर नहीं कहना रोजगार नह...   \n",
       "1  पटना :  BMP कैंप में पुरुष और महिला कांस्टेबल ...   \n",
       "2  कोई भी कांग्रेसी ,  ऊंची छत पर ,  रेलवे लाइन प...   \n",
       "3  अंडरवर्ल्ड डॉन छोटा राजन के भाई को बीजेपी द्वा...   \n",
       "4  :  इन पंचर छापों को कोन समझाए कि उनके रोजगार म...   \n",
       "5  पश्चिम बंगाल में फिर हुई माओवादियों की वापसी ,...   \n",
       "6  #Breaking-कंगना मामले पर बोले मनोज तिवारी-कहा ...   \n",
       "7  :  अच्छा किया साले का सर फोड़ दिया ,  ,  गर्दन...   \n",
       "8  हैदराबाद बीजेपी विधायक राजा सिंह की बहन माया द...   \n",
       "9  कमलनाथ के राज में , ₹ में 100यूनिट बिजली मिल र...   \n",
       "\n",
       "                                   hashtags smiley            emoji  \\\n",
       "0                                        []     []               []   \n",
       "1                                        []     []               []   \n",
       "2                                        []     []        [🙏, 😂, 👍]   \n",
       "3                                        []     []               []   \n",
       "4                                        []     []  [👇, 😂, 😂, 😂, 😂]   \n",
       "5                    [#Maoist, #WestBengal]     []               []   \n",
       "6  [#Breaking, #Sushantsinghcase, #Kangana]     []               []   \n",
       "7                                        []     []               []   \n",
       "8                                        []     []               []   \n",
       "9                                        []     []               []   \n",
       "\n",
       "                         url                            mentions  \\\n",
       "0                         []                                  []   \n",
       "1  [https://t.co/Dq05hREifM]                   [@kumarprakash4u]   \n",
       "2                         []                                  []   \n",
       "3                         []                                  []   \n",
       "4                         []                       [@_Pb_swain_]   \n",
       "5  [https://t.co/pP1AOvOv0b]                                  []   \n",
       "6  [https://t.co/szOTZWq1hI]                                  []   \n",
       "7                         []  [@BasudebaTripat4, @Rajanspsingh1]   \n",
       "8                         []                                  []   \n",
       "9                         []                                  []   \n",
       "\n",
       "                numerals reserved_word  \\\n",
       "0     [20, 6, 10, 20, 6]            []   \n",
       "1                     []            []   \n",
       "2                     []            []   \n",
       "3                     []            []   \n",
       "4                     []          [RT]   \n",
       "5                     []            []   \n",
       "6                     []            []   \n",
       "7                     []            []   \n",
       "8                     []            []   \n",
       "9  [100, 100, 500, 1000]            []   \n",
       "\n",
       "                                             emotext  \\\n",
       "0                                                 []   \n",
       "1                                                 []   \n",
       "2  [folded hands, face with tears of joy, thumbs up]   \n",
       "3                                                 []   \n",
       "4  [backhand index pointing down, face with tears...   \n",
       "5                                                 []   \n",
       "6                                                 []   \n",
       "7                                                 []   \n",
       "8                                                 []   \n",
       "9                                                 []   \n",
       "\n",
       "                          segmented_hash  \n",
       "0                                     []  \n",
       "1                                     []  \n",
       "2                                     []  \n",
       "3                                     []  \n",
       "4                                     []  \n",
       "5                  [maoist, west bengal]  \n",
       "6  [breaking, sushantsinghcase, kangana]  \n",
       "7                                     []  \n",
       "8                                     []  \n",
       "9                                     []  "
      ]
     },
     "execution_count": 6,
     "metadata": {},
     "output_type": "execute_result"
    }
   ],
   "source": [
    "train = pd.concat([train, valid])\n",
    "test.head(10)"
   ]
  },
  {
   "cell_type": "code",
   "execution_count": 7,
   "metadata": {
    "execution": {
     "iopub.execute_input": "2020-12-10T07:32:59.245169Z",
     "iopub.status.busy": "2020-12-10T07:32:59.245018Z",
     "iopub.status.idle": "2020-12-10T07:32:59.248589Z",
     "shell.execute_reply": "2020-12-10T07:32:59.248085Z",
     "shell.execute_reply.started": "2020-12-10T07:32:59.245149Z"
    }
   },
   "outputs": [],
   "source": [
    "labels = ['fake','hate', 'defamation','offensive','non-hostile']\n",
    "lab = labels[lab_num]\n",
    "# def label_encode(val):\n",
    "#     return labels.index(val)\n",
    "def label_encode(val):\n",
    "    val = val.split(',')\n",
    "    if lab_num == 4:\n",
    "        if lab in val:\n",
    "            return 0\n",
    "        else:\n",
    "            return 1\n",
    "    else:\n",
    "        if lab in val:\n",
    "            return 1\n",
    "        else:\n",
    "            return 0"
   ]
  },
  {
   "cell_type": "code",
   "execution_count": 8,
   "metadata": {
    "execution": {
     "iopub.execute_input": "2020-12-10T07:32:59.249427Z",
     "iopub.status.busy": "2020-12-10T07:32:59.249285Z",
     "iopub.status.idle": "2020-12-10T07:32:59.258617Z",
     "shell.execute_reply": "2020-12-10T07:32:59.258081Z",
     "shell.execute_reply.started": "2020-12-10T07:32:59.249408Z"
    }
   },
   "outputs": [],
   "source": [
    "train['label'] = train.task_1.apply(label_encode)\n",
    "train['tweet'] = train.full_tweet\n",
    "test['tweet'] = test.full_tweet"
   ]
  },
  {
   "cell_type": "code",
   "execution_count": 9,
   "metadata": {
    "execution": {
     "iopub.execute_input": "2020-12-10T07:32:59.260565Z",
     "iopub.status.busy": "2020-12-10T07:32:59.260391Z",
     "iopub.status.idle": "2020-12-10T07:32:59.264848Z",
     "shell.execute_reply": "2020-12-10T07:32:59.264426Z",
     "shell.execute_reply.started": "2020-12-10T07:32:59.260545Z"
    }
   },
   "outputs": [
    {
     "data": {
      "text/plain": [
       "459     1\n",
       "141     0\n",
       "557     0\n",
       "2673    1\n",
       "2310    1\n",
       "4911    0\n",
       "2991    1\n",
       "1470    1\n",
       "4394    1\n",
       "888     1\n",
       "Name: label, dtype: int64"
      ]
     },
     "execution_count": 9,
     "metadata": {},
     "output_type": "execute_result"
    }
   ],
   "source": [
    "train.label.sample(10)"
   ]
  },
  {
   "cell_type": "code",
   "execution_count": 10,
   "metadata": {
    "execution": {
     "iopub.execute_input": "2020-12-10T07:32:59.266001Z",
     "iopub.status.busy": "2020-12-10T07:32:59.265857Z",
     "iopub.status.idle": "2020-12-10T07:32:59.270901Z",
     "shell.execute_reply": "2020-12-10T07:32:59.270469Z",
     "shell.execute_reply.started": "2020-12-10T07:32:59.265982Z"
    }
   },
   "outputs": [],
   "source": [
    "train = train.reset_index(drop=True)\n",
    "REPLACE_BY_SPACE_RE = re.compile('[/(){}\\[\\]\\|@,;]')\n",
    "BAD_SYMBOLS_RE = re.compile('[^0-9a-z #+_]')\n",
    "STOPWORDS = []\n",
    "\n",
    "def clean_text(text):\n",
    "    \"\"\"\n",
    "        text: a string\n",
    "        \n",
    "        return: modified initial string\n",
    "    \"\"\"\n",
    "    text = text.lower() # lowercase text\n",
    "    text = REPLACE_BY_SPACE_RE.sub(' ', text) # replace REPLACE_BY_SPACE_RE symbols by space in text. substitute the matched string in REPLACE_BY_SPACE_RE with space.\n",
    "    text = BAD_SYMBOLS_RE.sub('', text) # remove symbols which are in BAD_SYMBOLS_RE from text. substitute the matched string in BAD_SYMBOLS_RE with nothing. \n",
    "#    text = re.sub(r'\\W+', '', text)\n",
    "    text = ' '.join(word for word in text.split() if word not in STOPWORDS) # remove stopwors from text\n",
    "    return text\n",
    "# train.tweet = train.tweet.apply(clean_text)\n",
    "# train.tweet = train.tweet.str.replace('\\d+', '')"
   ]
  },
  {
   "cell_type": "code",
   "execution_count": 11,
   "metadata": {
    "execution": {
     "iopub.execute_input": "2020-12-10T07:32:59.271680Z",
     "iopub.status.busy": "2020-12-10T07:32:59.271543Z",
     "iopub.status.idle": "2020-12-10T07:32:59.274719Z",
     "shell.execute_reply": "2020-12-10T07:32:59.274207Z",
     "shell.execute_reply.started": "2020-12-10T07:32:59.271662Z"
    }
   },
   "outputs": [],
   "source": [
    "# test.label = test.label.apply(label_encode)\n",
    "test = test.reset_index(drop=True)\n",
    "# test.tweet = test.tweet.apply(clean_text)\n",
    "# test.tweet = test.tweet.str.replace('\\d+', '')"
   ]
  },
  {
   "cell_type": "code",
   "execution_count": 12,
   "metadata": {
    "execution": {
     "iopub.execute_input": "2020-12-10T07:32:59.275601Z",
     "iopub.status.busy": "2020-12-10T07:32:59.275461Z",
     "iopub.status.idle": "2020-12-10T07:32:59.280854Z",
     "shell.execute_reply": "2020-12-10T07:32:59.280436Z",
     "shell.execute_reply.started": "2020-12-10T07:32:59.275583Z"
    }
   },
   "outputs": [
    {
     "data": {
      "text/plain": [
       "3352    ह मप्र का है, जहां बीजेपी कार्यकर्ता मुस्लिम य...\n",
       "5673    अगर कोई लड़का आपके नज़र में कुत्ता कमीना चूतिय...\n",
       "4740    आरा: JDU नेता ने यूनिवर्सिटी में घुसकर की प्रो...\n",
       "3361             @iSinghApurva कोग्रेस कमीनी है गद्दार है\n",
       "5611      सुप्रीम कोर्ट से लाइव प https://t.co/gjUZLCQDwZ\n",
       "2610    कौवों की संख्या इतनी ज्यादा है कि लोग डर के मा...\n",
       "4242    भारत के स्वास्थ्य मंत्रालय ने कोरोनावायरस की र...\n",
       "1918    ख्यमंत्री ममता बनर्जी ने मीटिंग में अपने मिनिस...\n",
       "3904    #BreakingNews | स्वदेशी हाइपरसोनिक स्क्रैमजेट ...\n",
       "3799    फेक न्यूज के अन्तर्गत अब तक 2,417 मामलों में स...\n",
       "Name: tweet, dtype: object"
      ]
     },
     "execution_count": 12,
     "metadata": {},
     "output_type": "execute_result"
    }
   ],
   "source": [
    "train.tweet.sample(10)"
   ]
  },
  {
   "cell_type": "code",
   "execution_count": 13,
   "metadata": {
    "execution": {
     "iopub.execute_input": "2020-12-10T07:32:59.281680Z",
     "iopub.status.busy": "2020-12-10T07:32:59.281541Z",
     "iopub.status.idle": "2020-12-10T07:32:59.285292Z",
     "shell.execute_reply": "2020-12-10T07:32:59.284844Z",
     "shell.execute_reply.started": "2020-12-10T07:32:59.281662Z"
    }
   },
   "outputs": [],
   "source": [
    "# split the dataset into training and validation datasets \n",
    "from sklearn.model_selection import train_test_split\n",
    "# train_x, valid_x, train_y, valid_y = model_selection.train_test_split(train['tweet'], train['label'])\n",
    "train_x, valid_x, train_y, valid_y = train_test_split(train['tweet'], train['label'], test_size=0.2)"
   ]
  },
  {
   "cell_type": "code",
   "execution_count": 14,
   "metadata": {
    "execution": {
     "iopub.execute_input": "2020-12-10T07:32:59.286103Z",
     "iopub.status.busy": "2020-12-10T07:32:59.285963Z",
     "iopub.status.idle": "2020-12-10T07:32:59.289713Z",
     "shell.execute_reply": "2020-12-10T07:32:59.289228Z",
     "shell.execute_reply.started": "2020-12-10T07:32:59.286085Z"
    }
   },
   "outputs": [],
   "source": [
    "def count_words(text):\n",
    "    try:\n",
    "        return len(text.split())\n",
    "    except:\n",
    "        print(text)\n",
    "        return None"
   ]
  },
  {
   "cell_type": "code",
   "execution_count": 15,
   "metadata": {
    "execution": {
     "iopub.execute_input": "2020-12-10T07:32:59.290541Z",
     "iopub.status.busy": "2020-12-10T07:32:59.290397Z",
     "iopub.status.idle": "2020-12-10T07:32:59.310421Z",
     "shell.execute_reply": "2020-12-10T07:32:59.310007Z",
     "shell.execute_reply.started": "2020-12-10T07:32:59.290523Z"
    }
   },
   "outputs": [
    {
     "data": {
      "text/plain": [
       "(30.697376208325114, 2808, 26, 5069)"
      ]
     },
     "execution_count": 15,
     "metadata": {},
     "output_type": "execute_result"
    }
   ],
   "source": [
    "total = 0\n",
    "maxw = 0\n",
    "large_count = 0\n",
    "for i in train_x:\n",
    "    temp = count_words(i)\n",
    "    total += temp\n",
    "    maxw = temp if temp > maxw else maxw\n",
    "    large_count += 1 if temp > 120 else 0\n",
    "total/len(train_x), maxw, large_count, len(train_x)"
   ]
  },
  {
   "cell_type": "code",
   "execution_count": 16,
   "metadata": {
    "execution": {
     "iopub.execute_input": "2020-12-10T07:32:59.311242Z",
     "iopub.status.busy": "2020-12-10T07:32:59.311103Z",
     "iopub.status.idle": "2020-12-10T07:32:59.317752Z",
     "shell.execute_reply": "2020-12-10T07:32:59.317259Z",
     "shell.execute_reply.started": "2020-12-10T07:32:59.311225Z"
    }
   },
   "outputs": [],
   "source": [
    "# MAX_LENGTH = 50\n",
    "posts = train.values\n",
    "categories = train.values"
   ]
  },
  {
   "cell_type": "code",
   "execution_count": 17,
   "metadata": {
    "execution": {
     "iopub.execute_input": "2020-12-10T07:32:59.318605Z",
     "iopub.status.busy": "2020-12-10T07:32:59.318466Z",
     "iopub.status.idle": "2020-12-10T07:32:59.321151Z",
     "shell.execute_reply": "2020-12-10T07:32:59.320573Z",
     "shell.execute_reply.started": "2020-12-10T07:32:59.318587Z"
    }
   },
   "outputs": [],
   "source": [
    "# Sections of config\n",
    "\n",
    "# Defining some key variables that will be used later on in the training\n",
    "MAX_LEN = 128\n",
    "TRAIN_BATCH_SIZE = 16\n",
    "VALID_BATCH_SIZE = 32\n",
    "EPOCHS = 10\n",
    "LEARNING_RATE = 1e-05\n"
   ]
  },
  {
   "cell_type": "code",
   "execution_count": 18,
   "metadata": {
    "execution": {
     "iopub.execute_input": "2020-12-10T07:32:59.322116Z",
     "iopub.status.busy": "2020-12-10T07:32:59.321939Z",
     "iopub.status.idle": "2020-12-10T07:32:59.453213Z",
     "shell.execute_reply": "2020-12-10T07:32:59.452678Z",
     "shell.execute_reply.started": "2020-12-10T07:32:59.322096Z"
    }
   },
   "outputs": [
    {
     "data": {
      "text/plain": [
       "array([0., 0., 0., 0., 0., 0., 0., 0., 0., 0., 0., 0., 0., 0., 0., 0., 0.,\n",
       "       0., 0., 0., 0., 0., 0., 0., 0., 0., 0., 0., 0., 0., 0., 0., 0., 0.,\n",
       "       0., 0., 0., 0., 0., 0., 0., 0., 0., 0., 0., 0., 0., 0., 0., 0., 0.,\n",
       "       0., 0., 0., 0., 0., 0., 0., 0., 0., 0., 0., 0., 0., 0., 0., 0., 0.,\n",
       "       0., 0., 0., 0., 0., 0., 0., 0., 0., 0., 0., 0., 0., 0., 0., 0., 0.,\n",
       "       0., 0., 0., 0., 0., 0., 0., 0., 0., 0., 0., 0., 0., 0., 0., 0., 0.,\n",
       "       0., 0., 0., 0., 0., 0., 0., 0., 0., 0., 0., 0., 0., 0., 0., 0., 0.,\n",
       "       0., 0., 0., 0., 0., 0., 0., 0., 0., 0., 0., 0., 0., 0., 0., 0., 0.,\n",
       "       0., 0., 0., 0., 0., 0., 0., 0., 0., 0., 0., 0., 0., 0., 0., 0., 0.,\n",
       "       0., 0., 0., 0., 0., 0., 0., 0., 0., 0., 0., 0., 0., 0., 0., 0., 0.,\n",
       "       0., 0., 0., 0., 0., 0., 0., 0., 0., 0., 0., 0., 0., 0., 0., 0., 0.,\n",
       "       0., 0., 0., 0., 0., 0., 0., 0., 0., 0., 0., 0., 0., 0., 0., 0., 0.,\n",
       "       0., 0., 0., 0., 0., 0., 0., 0., 0., 0., 0., 0., 0., 0., 0., 0., 0.,\n",
       "       0., 0., 0., 0., 0., 0., 0., 0., 0., 0., 0., 0., 0., 0., 0., 0., 0.,\n",
       "       0., 0., 0., 0., 0., 0., 0., 0., 0., 0., 0., 0., 0., 0., 0., 0., 0.,\n",
       "       0., 0., 0., 0., 0., 0., 0., 0., 0., 0., 0., 0., 0., 0., 0., 0., 0.,\n",
       "       0., 0., 0., 0., 0., 0., 0., 0., 0., 0., 0., 0., 0., 0., 0., 0., 0.,\n",
       "       0., 0., 0., 0., 0., 0., 0., 0., 0., 0., 0.])"
      ]
     },
     "execution_count": 18,
     "metadata": {},
     "output_type": "execute_result"
    }
   ],
   "source": [
    "import gensim.models as gsm\n",
    "e2v = gsm.KeyedVectors.load_word2vec_format('emoji2vec.bin', binary=True)\n",
    "# happy_vector = e2v['😂']    # Produces an embedding vector of length 300\n",
    "\n",
    "# Download the bin file from here https://github.com/uclnlp/emoji2vec/blob/master/pre-trained/emoji2vec.bin\n",
    "\n",
    "def getEmojiEmbeddings(emojiList,dim=300,verbose = False):\n",
    "  \"\"\" Generates an emoji vector by averaging the emoji representation for each emoji. If no emoji returns an empty list of dimension dim\"\"\"\n",
    "  if dim < 300:\n",
    "    raise IndexError(\"Dim has to be greater than 300\")\n",
    "  result = np.zeros(dim)\n",
    "  if (len(emojiList) == 0):\n",
    "    return result\n",
    "  else:\n",
    "    embs = None\n",
    "    for i in emojiList:\n",
    "      if verbose:\n",
    "        if i not in e2v.vocab:\n",
    "          print(i)\n",
    "    embs = np.mean([e2v[i] for i in emojiList if i in e2v.vocab], axis=0)\n",
    "  if np.any(np.isnan(embs)):\n",
    "    return result\n",
    "  result[:300] = embs\n",
    "  return result\n",
    "getEmojiEmbeddings(valid.emoji.values[0])"
   ]
  },
  {
   "cell_type": "code",
   "execution_count": 19,
   "metadata": {
    "execution": {
     "iopub.execute_input": "2020-12-10T07:32:59.454214Z",
     "iopub.status.busy": "2020-12-10T07:32:59.453975Z",
     "iopub.status.idle": "2020-12-10T07:32:59.461984Z",
     "shell.execute_reply": "2020-12-10T07:32:59.461402Z",
     "shell.execute_reply.started": "2020-12-10T07:32:59.454192Z"
    }
   },
   "outputs": [
    {
     "name": "stderr",
     "output_type": "stream",
     "text": [
      "/home/tathagata.raha/miniconda3/envs/fastai/lib/python3.8/site-packages/transformers/tokenization_utils_base.py:1764: FutureWarning: The `pad_to_max_length` argument is deprecated and will be removed in a future version, use `padding=True` or `padding='longest'` to pad to the longest sequence in the batch, or use `padding='max_length'` to pad to a max length. In this case, you can give a specific length with `max_length` (e.g. `max_length=45`) or leave max_length to None to pad to the maximal input size of the model (e.g. 512 for Bert).\n",
      "  warnings.warn(\n"
     ]
    },
    {
     "data": {
      "text/plain": [
       "(torch.Size([128]), torch.Size([300]))"
      ]
     },
     "execution_count": 19,
     "metadata": {},
     "output_type": "execute_result"
    }
   ],
   "source": [
    "ids = tokenizer.encode_plus(\n",
    "            valid.full_tweet.values[0],\n",
    "            None,\n",
    "            truncation=True,\n",
    "            add_special_tokens=True,\n",
    "            max_length=128,\n",
    "            pad_to_max_length=True,\n",
    "            return_attention_mask = True,\n",
    "            return_token_type_ids=True\n",
    "        )['input_ids']\n",
    "torch.tensor(ids, dtype=torch.long).shape, torch.tensor(getEmojiEmbeddings(valid.emoji.values[0]), dtype=torch.long).shape"
   ]
  },
  {
   "cell_type": "code",
   "execution_count": 20,
   "metadata": {
    "execution": {
     "iopub.execute_input": "2020-12-10T07:32:59.463159Z",
     "iopub.status.busy": "2020-12-10T07:32:59.462863Z",
     "iopub.status.idle": "2020-12-10T07:32:59.473105Z",
     "shell.execute_reply": "2020-12-10T07:32:59.472594Z",
     "shell.execute_reply.started": "2020-12-10T07:32:59.463137Z"
    }
   },
   "outputs": [],
   "source": [
    "class MultiLabelDataset(Dataset):\n",
    "\n",
    "    def __init__(self, dataframe, tokenizer, max_len, t = False):\n",
    "        self.tokenizer = tokenizer\n",
    "        self.data = dataframe\n",
    "        self.text = dataframe.tweet\n",
    "        self.emoji = dataframe.emoji\n",
    "        self.hash = dataframe.segmented_hash\n",
    "        self.t = t\n",
    "        if not self.t:\n",
    "            self.targets = self.data.label\n",
    "        self.max_len = max_len\n",
    "\n",
    "    def __len__(self):\n",
    "        return len(self.text)\n",
    "\n",
    "    def __getitem__(self, index):\n",
    "        text = str(self.text[index])\n",
    "        text = \" \".join(text.split())\n",
    "        inputs = self.tokenizer.encode_plus(\n",
    "            text,\n",
    "            None,\n",
    "            truncation=True,\n",
    "            add_special_tokens=True,\n",
    "            max_length=self.max_len,\n",
    "            pad_to_max_length=True,\n",
    "            return_attention_mask = True,\n",
    "            return_token_type_ids=True\n",
    "        )\n",
    "        ids = inputs['input_ids']\n",
    "        mask = inputs['attention_mask']\n",
    "        token_type_ids = inputs[\"token_type_ids\"]\n",
    "        h_text = self.hash[index]\n",
    "        h_text = \" \".join(h_text)\n",
    "        inputs = self.tokenizer.encode_plus(\n",
    "            h_text,\n",
    "            None,\n",
    "            truncation=True,\n",
    "            add_special_tokens=True,\n",
    "            max_length=self.max_len,\n",
    "            pad_to_max_length=True,\n",
    "            return_attention_mask = True,\n",
    "            return_token_type_ids=True\n",
    "        )\n",
    "        h_ids = inputs['input_ids']\n",
    "        h_mask = inputs['attention_mask']\n",
    "        h_token_type_ids = inputs[\"token_type_ids\"]\n",
    "#         h_inputs\n",
    "        emoji = getEmojiEmbeddings(self.emoji[index])\n",
    "        if self.t:\n",
    "            return {\n",
    "                'ids': torch.tensor(ids, dtype=torch.long),\n",
    "                'mask': torch.tensor(mask, dtype=torch.long),\n",
    "                'token_type_ids': torch.tensor(token_type_ids, dtype=torch.long),\n",
    "                'h_ids': torch.tensor(h_ids, dtype=torch.long),\n",
    "                'h_mask': torch.tensor(h_mask, dtype=torch.long),\n",
    "                'h_token_type_ids': torch.tensor(h_token_type_ids, dtype=torch.long),\n",
    "                'emoji' : torch.tensor(emoji, dtype=torch.long),\n",
    "            }\n",
    "        else:\n",
    "            return {\n",
    "                'ids': torch.tensor(ids, dtype=torch.long),\n",
    "                'mask': torch.tensor(mask, dtype=torch.long),\n",
    "                'token_type_ids': torch.tensor(token_type_ids, dtype=torch.long),\n",
    "                'h_ids': torch.tensor(h_ids, dtype=torch.long),\n",
    "                'h_mask': torch.tensor(h_mask, dtype=torch.long),\n",
    "                'h_token_type_ids': torch.tensor(h_token_type_ids, dtype=torch.long),\n",
    "                'emoji' : torch.tensor(emoji, dtype=torch.long),\n",
    "                'targets': torch.tensor(self.targets[index], dtype=torch.long)\n",
    "            }"
   ]
  },
  {
   "cell_type": "code",
   "execution_count": 21,
   "metadata": {
    "execution": {
     "iopub.execute_input": "2020-12-10T07:32:59.473981Z",
     "iopub.status.busy": "2020-12-10T07:32:59.473820Z",
     "iopub.status.idle": "2020-12-10T07:32:59.486674Z",
     "shell.execute_reply": "2020-12-10T07:32:59.486216Z",
     "shell.execute_reply.started": "2020-12-10T07:32:59.473947Z"
    }
   },
   "outputs": [
    {
     "name": "stdout",
     "output_type": "stream",
     "text": [
      "FULL Dataset: (6337, 16)\n",
      "TRAIN Dataset: (5386, 16)\n",
      "TEST Dataset: (951, 16)\n"
     ]
    }
   ],
   "source": [
    "# Creating the dataset and dataloader for the neural network\n",
    "\n",
    "train_size = 0.85\n",
    "train_data=train.sample(frac=train_size,random_state=200)\n",
    "test_data=train.drop(train_data.index).reset_index(drop=True)\n",
    "train_data = train_data.reset_index(drop=True)\n",
    "\n",
    "\n",
    "print(\"FULL Dataset: {}\".format(train.shape))\n",
    "print(\"TRAIN Dataset: {}\".format(train_data.shape))\n",
    "print(\"TEST Dataset: {}\".format(test_data.shape))\n",
    "\n",
    "training_set = MultiLabelDataset(train_data, tokenizer, MAX_LEN)\n",
    "testing_set = MultiLabelDataset(test_data, tokenizer, MAX_LEN)"
   ]
  },
  {
   "cell_type": "code",
   "execution_count": 22,
   "metadata": {
    "execution": {
     "iopub.execute_input": "2020-12-10T07:32:59.487599Z",
     "iopub.status.busy": "2020-12-10T07:32:59.487451Z",
     "iopub.status.idle": "2020-12-10T07:32:59.490514Z",
     "shell.execute_reply": "2020-12-10T07:32:59.489996Z",
     "shell.execute_reply.started": "2020-12-10T07:32:59.487580Z"
    }
   },
   "outputs": [],
   "source": [
    "train_params = {'batch_size': TRAIN_BATCH_SIZE,\n",
    "                'shuffle': True,\n",
    "                'num_workers': 0\n",
    "                }\n",
    "\n",
    "test_params = {'batch_size': VALID_BATCH_SIZE,\n",
    "                'shuffle': True,\n",
    "                'num_workers': 0\n",
    "                }\n",
    "\n",
    "training_loader = DataLoader(training_set, **train_params)\n",
    "testing_loader = DataLoader(testing_set, **test_params)"
   ]
  },
  {
   "cell_type": "code",
   "execution_count": 23,
   "metadata": {
    "execution": {
     "iopub.execute_input": "2020-12-10T07:32:59.491398Z",
     "iopub.status.busy": "2020-12-10T07:32:59.491244Z",
     "iopub.status.idle": "2020-12-10T07:33:06.777662Z",
     "shell.execute_reply": "2020-12-10T07:33:06.776880Z",
     "shell.execute_reply.started": "2020-12-10T07:32:59.491378Z"
    }
   },
   "outputs": [
    {
     "data": {
      "text/plain": [
       "BERTClass(\n",
       "  (l1): AlbertModel(\n",
       "    (embeddings): AlbertEmbeddings(\n",
       "      (word_embeddings): Embedding(200000, 128, padding_idx=0)\n",
       "      (position_embeddings): Embedding(512, 128)\n",
       "      (token_type_embeddings): Embedding(2, 128)\n",
       "      (LayerNorm): LayerNorm((128,), eps=1e-12, elementwise_affine=True)\n",
       "      (dropout): Dropout(p=0, inplace=False)\n",
       "    )\n",
       "    (encoder): AlbertTransformer(\n",
       "      (embedding_hidden_mapping_in): Linear(in_features=128, out_features=768, bias=True)\n",
       "      (albert_layer_groups): ModuleList(\n",
       "        (0): AlbertLayerGroup(\n",
       "          (albert_layers): ModuleList(\n",
       "            (0): AlbertLayer(\n",
       "              (full_layer_layer_norm): LayerNorm((768,), eps=1e-12, elementwise_affine=True)\n",
       "              (attention): AlbertAttention(\n",
       "                (query): Linear(in_features=768, out_features=768, bias=True)\n",
       "                (key): Linear(in_features=768, out_features=768, bias=True)\n",
       "                (value): Linear(in_features=768, out_features=768, bias=True)\n",
       "                (dropout): Dropout(p=0, inplace=False)\n",
       "                (attention_dropout): Dropout(p=0, inplace=False)\n",
       "                (output_dropout): Dropout(p=0, inplace=False)\n",
       "                (dense): Linear(in_features=768, out_features=768, bias=True)\n",
       "                (LayerNorm): LayerNorm((768,), eps=1e-12, elementwise_affine=True)\n",
       "              )\n",
       "              (ffn): Linear(in_features=768, out_features=3072, bias=True)\n",
       "              (ffn_output): Linear(in_features=3072, out_features=768, bias=True)\n",
       "              (dropout): Dropout(p=0, inplace=False)\n",
       "            )\n",
       "          )\n",
       "        )\n",
       "      )\n",
       "    )\n",
       "    (pooler): Linear(in_features=768, out_features=768, bias=True)\n",
       "    (pooler_activation): Tanh()\n",
       "  )\n",
       "  (l2): AlbertModel(\n",
       "    (embeddings): AlbertEmbeddings(\n",
       "      (word_embeddings): Embedding(200000, 128, padding_idx=0)\n",
       "      (position_embeddings): Embedding(512, 128)\n",
       "      (token_type_embeddings): Embedding(2, 128)\n",
       "      (LayerNorm): LayerNorm((128,), eps=1e-12, elementwise_affine=True)\n",
       "      (dropout): Dropout(p=0, inplace=False)\n",
       "    )\n",
       "    (encoder): AlbertTransformer(\n",
       "      (embedding_hidden_mapping_in): Linear(in_features=128, out_features=768, bias=True)\n",
       "      (albert_layer_groups): ModuleList(\n",
       "        (0): AlbertLayerGroup(\n",
       "          (albert_layers): ModuleList(\n",
       "            (0): AlbertLayer(\n",
       "              (full_layer_layer_norm): LayerNorm((768,), eps=1e-12, elementwise_affine=True)\n",
       "              (attention): AlbertAttention(\n",
       "                (query): Linear(in_features=768, out_features=768, bias=True)\n",
       "                (key): Linear(in_features=768, out_features=768, bias=True)\n",
       "                (value): Linear(in_features=768, out_features=768, bias=True)\n",
       "                (dropout): Dropout(p=0, inplace=False)\n",
       "                (attention_dropout): Dropout(p=0, inplace=False)\n",
       "                (output_dropout): Dropout(p=0, inplace=False)\n",
       "                (dense): Linear(in_features=768, out_features=768, bias=True)\n",
       "                (LayerNorm): LayerNorm((768,), eps=1e-12, elementwise_affine=True)\n",
       "              )\n",
       "              (ffn): Linear(in_features=768, out_features=3072, bias=True)\n",
       "              (ffn_output): Linear(in_features=3072, out_features=768, bias=True)\n",
       "              (dropout): Dropout(p=0, inplace=False)\n",
       "            )\n",
       "          )\n",
       "        )\n",
       "      )\n",
       "    )\n",
       "    (pooler): Linear(in_features=768, out_features=768, bias=True)\n",
       "    (pooler_activation): Tanh()\n",
       "  )\n",
       "  (pre_classifier_1): Linear(in_features=768, out_features=768, bias=True)\n",
       "  (pre_classifier_2): Linear(in_features=768, out_features=768, bias=True)\n",
       "  (dropout): Dropout(p=0.1, inplace=False)\n",
       "  (pre_classifier_3): Linear(in_features=1836, out_features=1836, bias=True)\n",
       "  (classifier): Linear(in_features=1836, out_features=2, bias=True)\n",
       ")"
      ]
     },
     "execution_count": 23,
     "metadata": {},
     "output_type": "execute_result"
    }
   ],
   "source": [
    "class BERTClass(torch.nn.Module):\n",
    "    def __init__(self):\n",
    "        super(BERTClass, self).__init__()\n",
    "        self.l1 = AutoModel.from_pretrained(models[model_num])\n",
    "        self.l2 = AutoModel.from_pretrained(models[model_num])\n",
    "        \n",
    "        self.pre_classifier_1 = torch.nn.Linear(768, 768)\n",
    "        self.pre_classifier_2 = torch.nn.Linear(768, 768)\n",
    "        self.dropout = torch.nn.Dropout(0.1)\n",
    "        self.pre_classifier_3 = torch.nn.Linear(1836, 1836)\n",
    "#         self.pre_classifier_3 = torch.nn.Linear(768, 100)\n",
    "        self.classifier = torch.nn.Linear(1836, 2)\n",
    "\n",
    "    def forward(self, input_ids, attention_mask, token_type_ids, h_ids, h_mask, h_token_type_ids, emoji):\n",
    "        output_1 = self.l1(input_ids=input_ids, attention_mask=attention_mask)\n",
    "        hidden_state_1 = output_1[0]\n",
    "        pooler_1 = hidden_state_1[:, 0]\n",
    "        pooler_1 = self.pre_classifier_1(pooler_1)\n",
    "        pooler_1 = torch.nn.Tanh()(pooler_1)\n",
    "        pooler_1 = self.dropout(pooler_1)\n",
    "        output_2 = self.l2(input_ids=h_ids, attention_mask=h_mask)\n",
    "        hidden_state_2 = output_2[0]\n",
    "        pooler_2 = hidden_state_2[:, 0]\n",
    "        pooler_2 = self.pre_classifier_2(pooler_2)\n",
    "        pooler_2 = torch.nn.Tanh()(pooler_2)\n",
    "        pooler_2 = self.dropout(pooler_2)\n",
    "        pooler_3 = torch.cat((pooler_1, pooler_2), 1)\n",
    "        pooler_3 = torch.cat((pooler_3, emoji), 1)\n",
    "#         print(pooler_1.shape,hidden_state_1.shape, pooler_2.shape, emoji.type(torch.FloatTensor).shape)\n",
    "#         pooler_3 = torch.nn.Tanh()(emoji.type(torch.FloatTensor))\n",
    "#         pooler_3 = self.dropout(pooler_3)\n",
    "#         print(pooler_3.shape)\n",
    "        pooler_3 = self.pre_classifier_3(pooler_3)\n",
    "#         pooler_3 = self.pre_classifier_3(pooler_2)\n",
    "        pooler_3 = torch.nn.Tanh()(pooler_3)\n",
    "        pooler_3 = self.dropout(pooler_3)\n",
    "        output = self.classifier(pooler_3)\n",
    "        return output\n",
    "\n",
    "model = BERTClass()\n",
    "model.to(device)"
   ]
  },
  {
   "cell_type": "code",
   "execution_count": 24,
   "metadata": {
    "execution": {
     "iopub.execute_input": "2020-12-10T07:33:06.778883Z",
     "iopub.status.busy": "2020-12-10T07:33:06.778709Z",
     "iopub.status.idle": "2020-12-10T07:33:06.781608Z",
     "shell.execute_reply": "2020-12-10T07:33:06.781064Z",
     "shell.execute_reply.started": "2020-12-10T07:33:06.778861Z"
    }
   },
   "outputs": [],
   "source": [
    "# from torchsummary import summary\n",
    "# print(repr(model))\n"
   ]
  },
  {
   "cell_type": "code",
   "execution_count": 25,
   "metadata": {
    "execution": {
     "iopub.execute_input": "2020-12-10T07:33:06.782554Z",
     "iopub.status.busy": "2020-12-10T07:33:06.782383Z",
     "iopub.status.idle": "2020-12-10T07:33:06.792999Z",
     "shell.execute_reply": "2020-12-10T07:33:06.792520Z",
     "shell.execute_reply.started": "2020-12-10T07:33:06.782534Z"
    }
   },
   "outputs": [
    {
     "name": "stdout",
     "output_type": "stream",
     "text": [
      "The BERT model has 58 different named parameters.\n",
      "\n",
      "==== Embedding Layer ====\n",
      "\n",
      "l1.embeddings.word_embeddings.weight                    (200000, 128)\n",
      "l1.embeddings.position_embeddings.weight                  (512, 128)\n",
      "l1.embeddings.token_type_embeddings.weight                  (2, 128)\n",
      "l1.embeddings.LayerNorm.weight                                (128,)\n",
      "l1.embeddings.LayerNorm.bias                                  (128,)\n",
      "\n",
      "==== First Transformer ====\n",
      "\n",
      "l1.encoder.embedding_hidden_mapping_in.weight             (768, 128)\n",
      "l1.encoder.embedding_hidden_mapping_in.bias                   (768,)\n",
      "l1.encoder.albert_layer_groups.0.albert_layers.0.full_layer_layer_norm.weight       (768,)\n",
      "l1.encoder.albert_layer_groups.0.albert_layers.0.full_layer_layer_norm.bias       (768,)\n",
      "l1.encoder.albert_layer_groups.0.albert_layers.0.attention.query.weight   (768, 768)\n",
      "l1.encoder.albert_layer_groups.0.albert_layers.0.attention.query.bias       (768,)\n",
      "l1.encoder.albert_layer_groups.0.albert_layers.0.attention.key.weight   (768, 768)\n",
      "l1.encoder.albert_layer_groups.0.albert_layers.0.attention.key.bias       (768,)\n",
      "l1.encoder.albert_layer_groups.0.albert_layers.0.attention.value.weight   (768, 768)\n",
      "l1.encoder.albert_layer_groups.0.albert_layers.0.attention.value.bias       (768,)\n",
      "l1.encoder.albert_layer_groups.0.albert_layers.0.attention.dense.weight   (768, 768)\n",
      "l1.encoder.albert_layer_groups.0.albert_layers.0.attention.dense.bias       (768,)\n",
      "l1.encoder.albert_layer_groups.0.albert_layers.0.attention.LayerNorm.weight       (768,)\n",
      "l1.encoder.albert_layer_groups.0.albert_layers.0.attention.LayerNorm.bias       (768,)\n",
      "l1.encoder.albert_layer_groups.0.albert_layers.0.ffn.weight  (3072, 768)\n",
      "l1.encoder.albert_layer_groups.0.albert_layers.0.ffn.bias      (3072,)\n",
      "\n",
      "==== Output Layer ====\n",
      "\n",
      "pre_classifier_3.weight                                 (1836, 1836)\n",
      "pre_classifier_3.bias                                        (1836,)\n",
      "classifier.weight                                          (2, 1836)\n",
      "classifier.bias                                                 (2,)\n"
     ]
    }
   ],
   "source": [
    "params = list(model.named_parameters())\n",
    "\n",
    "print('The BERT model has {:} different named parameters.\\n'.format(len(params)))\n",
    "\n",
    "print('==== Embedding Layer ====\\n')\n",
    "\n",
    "for p in params[0:5]:\n",
    "    print(\"{:<55} {:>12}\".format(p[0], str(tuple(p[1].size()))))\n",
    "\n",
    "print('\\n==== First Transformer ====\\n')\n",
    "\n",
    "for p in params[5:21]:\n",
    "    print(\"{:<55} {:>12}\".format(p[0], str(tuple(p[1].size()))))\n",
    "\n",
    "print('\\n==== Output Layer ====\\n')\n",
    "\n",
    "for p in params[-4:]:\n",
    "    print(\"{:<55} {:>12}\".format(p[0], str(tuple(p[1].size()))))\n"
   ]
  },
  {
   "cell_type": "code",
   "execution_count": 26,
   "metadata": {
    "execution": {
     "iopub.execute_input": "2020-12-10T07:33:06.793872Z",
     "iopub.status.busy": "2020-12-10T07:33:06.793722Z",
     "iopub.status.idle": "2020-12-10T07:33:06.796394Z",
     "shell.execute_reply": "2020-12-10T07:33:06.795920Z",
     "shell.execute_reply.started": "2020-12-10T07:33:06.793853Z"
    }
   },
   "outputs": [],
   "source": [
    "def loss_fn(outputs, targets):\n",
    "    return torch.nn.CrossEntropyLoss()(outputs, targets)"
   ]
  },
  {
   "cell_type": "code",
   "execution_count": 27,
   "metadata": {
    "execution": {
     "iopub.execute_input": "2020-12-10T07:33:06.798852Z",
     "iopub.status.busy": "2020-12-10T07:33:06.798701Z",
     "iopub.status.idle": "2020-12-10T07:33:06.801881Z",
     "shell.execute_reply": "2020-12-10T07:33:06.801353Z",
     "shell.execute_reply.started": "2020-12-10T07:33:06.798832Z"
    }
   },
   "outputs": [],
   "source": [
    "optimizer = torch.optim.Adam(params =  model.parameters(), lr=LEARNING_RATE)"
   ]
  },
  {
   "cell_type": "code",
   "execution_count": 28,
   "metadata": {
    "execution": {
     "iopub.execute_input": "2020-12-10T07:33:06.803052Z",
     "iopub.status.busy": "2020-12-10T07:33:06.802875Z",
     "iopub.status.idle": "2020-12-10T07:33:06.816277Z",
     "shell.execute_reply": "2020-12-10T07:33:06.815786Z",
     "shell.execute_reply.started": "2020-12-10T07:33:06.803033Z"
    }
   },
   "outputs": [],
   "source": [
    "def train(epoch):\n",
    "    total_train_loss = 0\n",
    "    count = 0\n",
    "    model.train()\n",
    "    for _,data in tqdm(enumerate(training_loader, 0)):\n",
    "        ids = data['ids'].to(device, dtype = torch.long)\n",
    "        mask = data['mask'].to(device, dtype = torch.long)\n",
    "        token_type_ids = data['token_type_ids'].to(device, dtype = torch.long)\n",
    "        h_ids = data['h_ids'].to(device, dtype = torch.long)\n",
    "        h_mask = data['h_mask'].to(device, dtype = torch.long)\n",
    "        h_token_type_ids = data['h_token_type_ids'].to(device, dtype = torch.long)\n",
    "        targets = data['targets'].to(device, dtype = torch.long)\n",
    "        emoji = data['emoji'].to(device, dtype = torch.long)\n",
    "        outputs = model(ids, mask, token_type_ids, h_ids, h_mask, h_token_type_ids, emoji)\n",
    "        optimizer.zero_grad()\n",
    "#         loss = outputs.loss\n",
    "        loss = loss_fn(outputs, targets)\n",
    "#         if _%50==0:\n",
    "#             print(f'Epoch: {epoch}, Loss:  {loss.item()}')\n",
    "        total_train_loss += loss.item()\n",
    "        count += 1\n",
    "        optimizer.zero_grad()\n",
    "        loss.backward()\n",
    "        optimizer.step()\n",
    "    model.eval()\n",
    "    fin_targets=[]\n",
    "    fin_outputs=[]\n",
    "    print(f'Epoch: {epoch}, Loss:  {total_train_loss/count}')\n",
    "    with torch.no_grad():\n",
    "        for _, data in tqdm(enumerate(testing_loader, 0)):\n",
    "            ids = data['ids'].to(device, dtype = torch.long)\n",
    "            mask = data['mask'].to(device, dtype = torch.long)\n",
    "            token_type_ids = data['token_type_ids'].to(device, dtype = torch.long)\n",
    "            h_ids = data['h_ids'].to(device, dtype = torch.long)\n",
    "            h_mask = data['h_mask'].to(device, dtype = torch.long)\n",
    "            h_token_type_ids = data['h_token_type_ids'].to(device, dtype = torch.long)\n",
    "            targets = data['targets'].to(device, dtype = torch.long)\n",
    "            emoji = data['emoji'].to(device, dtype = torch.long)\n",
    "            outputs = model(ids, mask, token_type_ids, h_ids, h_mask, h_token_type_ids, emoji)\n",
    "            fin_targets.extend(targets.cpu().detach().numpy().tolist())\n",
    "            fin_outputs.extend(torch.sigmoid(outputs).cpu().detach().numpy().tolist())\n",
    "    fin_outputs = list(np.argmax(np.array(fin_outputs), axis=1).flatten())\n",
    "    print(classification_report(fin_targets, fin_outputs))\n",
    "    torch.save(model, '/scratch/'+lab+'_epoch_'+str(epoch))\n",
    "    return fin_outputs, fin_targets\n",
    "#     final_outputs = np.array(fin_outputs) >=0.5\n",
    "#     final = []\n",
    "#     final_t = []\n",
    "#     final_fine = [[],[],[],[]]\n",
    "#     final_fine_t = [[],[],[],[]]\n",
    "#     for (i,j) in zip(final_outputs, fin_targets):\n",
    "#         output_sum = sum(i)\n",
    "#         target_sum = sum(j)\n",
    "#         if output_sum == 0:\n",
    "#             final.append(0)\n",
    "#         else:\n",
    "#             final.append(1)\n",
    "#         if target_sum == 0:\n",
    "#             final_t.append(0)\n",
    "#         else:\n",
    "#             final_t.append(1)\n",
    "#         for p in range(4):\n",
    "#             final_fine[p].append(int(i[p]))\n",
    "#             final_fine_t[p].append(int(j[p]))\n",
    "#     print(\"Coarse:\")\n",
    "#     print(classification_report(final, final_t))\n",
    "#     for i in range(4):\n",
    "#         print(\"Fine\", i)\n",
    "    \n",
    "#     return fin_outputs, fin_targets"
   ]
  },
  {
   "cell_type": "code",
   "execution_count": 29,
   "metadata": {
    "execution": {
     "iopub.execute_input": "2020-12-10T07:33:06.817093Z",
     "iopub.status.busy": "2020-12-10T07:33:06.816947Z",
     "iopub.status.idle": "2020-12-10T07:48:31.988203Z",
     "shell.execute_reply": "2020-12-10T07:48:31.987588Z",
     "shell.execute_reply.started": "2020-12-10T07:33:06.817073Z"
    }
   },
   "outputs": [
    {
     "name": "stderr",
     "output_type": "stream",
     "text": [
      "87it [00:22,  3.87it/s]/home/tathagata.raha/miniconda3/envs/fastai/lib/python3.8/site-packages/numpy/core/fromnumeric.py:3372: RuntimeWarning: Mean of empty slice.\n",
      "  return _methods._mean(a, axis=axis, dtype=dtype,\n",
      "/home/tathagata.raha/miniconda3/envs/fastai/lib/python3.8/site-packages/numpy/core/_methods.py:170: RuntimeWarning: invalid value encountered in double_scalars\n",
      "  ret = ret.dtype.type(ret / rcount)\n",
      "337it [01:26,  3.92it/s]\n",
      "1it [00:00,  5.38it/s]"
     ]
    },
    {
     "name": "stdout",
     "output_type": "stream",
     "text": [
      "Epoch: 0, Loss:  0.3197100312125701\n"
     ]
    },
    {
     "name": "stderr",
     "output_type": "stream",
     "text": [
      "30it [00:05,  5.40it/s]\n"
     ]
    },
    {
     "name": "stdout",
     "output_type": "stream",
     "text": [
      "              precision    recall  f1-score   support\n",
      "\n",
      "           0       0.96      0.96      0.96       489\n",
      "           1       0.96      0.96      0.96       462\n",
      "\n",
      "    accuracy                           0.96       951\n",
      "   macro avg       0.96      0.96      0.96       951\n",
      "weighted avg       0.96      0.96      0.96       951\n",
      "\n"
     ]
    },
    {
     "name": "stderr",
     "output_type": "stream",
     "text": [
      "337it [01:25,  3.92it/s]\n",
      "1it [00:00,  5.38it/s]"
     ]
    },
    {
     "name": "stdout",
     "output_type": "stream",
     "text": [
      "Epoch: 1, Loss:  0.1107902846586523\n"
     ]
    },
    {
     "name": "stderr",
     "output_type": "stream",
     "text": [
      "30it [00:05,  5.38it/s]\n"
     ]
    },
    {
     "name": "stdout",
     "output_type": "stream",
     "text": [
      "              precision    recall  f1-score   support\n",
      "\n",
      "           0       0.98      0.96      0.97       489\n",
      "           1       0.96      0.98      0.97       462\n",
      "\n",
      "    accuracy                           0.97       951\n",
      "   macro avg       0.97      0.97      0.97       951\n",
      "weighted avg       0.97      0.97      0.97       951\n",
      "\n"
     ]
    },
    {
     "name": "stderr",
     "output_type": "stream",
     "text": [
      "337it [01:26,  3.91it/s]\n",
      "1it [00:00,  5.38it/s]"
     ]
    },
    {
     "name": "stdout",
     "output_type": "stream",
     "text": [
      "Epoch: 2, Loss:  0.0633599667724233\n"
     ]
    },
    {
     "name": "stderr",
     "output_type": "stream",
     "text": [
      "30it [00:05,  5.39it/s]\n"
     ]
    },
    {
     "name": "stdout",
     "output_type": "stream",
     "text": [
      "              precision    recall  f1-score   support\n",
      "\n",
      "           0       0.99      0.97      0.98       489\n",
      "           1       0.97      0.99      0.98       462\n",
      "\n",
      "    accuracy                           0.98       951\n",
      "   macro avg       0.98      0.98      0.98       951\n",
      "weighted avg       0.98      0.98      0.98       951\n",
      "\n"
     ]
    },
    {
     "name": "stderr",
     "output_type": "stream",
     "text": [
      "337it [01:26,  3.88it/s]\n",
      "1it [00:00,  5.24it/s]"
     ]
    },
    {
     "name": "stdout",
     "output_type": "stream",
     "text": [
      "Epoch: 3, Loss:  0.041291941730416094\n"
     ]
    },
    {
     "name": "stderr",
     "output_type": "stream",
     "text": [
      "30it [00:05,  5.38it/s]\n"
     ]
    },
    {
     "name": "stdout",
     "output_type": "stream",
     "text": [
      "              precision    recall  f1-score   support\n",
      "\n",
      "           0       0.99      0.95      0.97       489\n",
      "           1       0.95      0.99      0.97       462\n",
      "\n",
      "    accuracy                           0.97       951\n",
      "   macro avg       0.97      0.97      0.97       951\n",
      "weighted avg       0.97      0.97      0.97       951\n",
      "\n"
     ]
    },
    {
     "name": "stderr",
     "output_type": "stream",
     "text": [
      "337it [01:25,  3.92it/s]\n",
      "1it [00:00,  5.37it/s]"
     ]
    },
    {
     "name": "stdout",
     "output_type": "stream",
     "text": [
      "Epoch: 4, Loss:  0.02812868755176741\n"
     ]
    },
    {
     "name": "stderr",
     "output_type": "stream",
     "text": [
      "30it [00:05,  5.39it/s]\n"
     ]
    },
    {
     "name": "stdout",
     "output_type": "stream",
     "text": [
      "              precision    recall  f1-score   support\n",
      "\n",
      "           0       0.99      0.96      0.98       489\n",
      "           1       0.96      0.99      0.98       462\n",
      "\n",
      "    accuracy                           0.98       951\n",
      "   macro avg       0.98      0.98      0.98       951\n",
      "weighted avg       0.98      0.98      0.98       951\n",
      "\n"
     ]
    },
    {
     "name": "stderr",
     "output_type": "stream",
     "text": [
      "337it [01:26,  3.91it/s]\n",
      "1it [00:00,  5.38it/s]"
     ]
    },
    {
     "name": "stdout",
     "output_type": "stream",
     "text": [
      "Epoch: 5, Loss:  0.014864159833628807\n"
     ]
    },
    {
     "name": "stderr",
     "output_type": "stream",
     "text": [
      "30it [00:05,  5.38it/s]\n"
     ]
    },
    {
     "name": "stdout",
     "output_type": "stream",
     "text": [
      "              precision    recall  f1-score   support\n",
      "\n",
      "           0       0.99      0.94      0.97       489\n",
      "           1       0.94      0.99      0.97       462\n",
      "\n",
      "    accuracy                           0.97       951\n",
      "   macro avg       0.97      0.97      0.97       951\n",
      "weighted avg       0.97      0.97      0.97       951\n",
      "\n"
     ]
    },
    {
     "name": "stderr",
     "output_type": "stream",
     "text": [
      "337it [01:26,  3.91it/s]\n",
      "1it [00:00,  5.34it/s]"
     ]
    },
    {
     "name": "stdout",
     "output_type": "stream",
     "text": [
      "Epoch: 6, Loss:  0.011712626291532899\n"
     ]
    },
    {
     "name": "stderr",
     "output_type": "stream",
     "text": [
      "30it [00:05,  5.27it/s]\n"
     ]
    },
    {
     "name": "stdout",
     "output_type": "stream",
     "text": [
      "              precision    recall  f1-score   support\n",
      "\n",
      "           0       0.99      0.97      0.98       489\n",
      "           1       0.97      0.99      0.98       462\n",
      "\n",
      "    accuracy                           0.98       951\n",
      "   macro avg       0.98      0.98      0.98       951\n",
      "weighted avg       0.98      0.98      0.98       951\n",
      "\n"
     ]
    },
    {
     "name": "stderr",
     "output_type": "stream",
     "text": [
      "337it [01:26,  3.91it/s]\n",
      "1it [00:00,  5.39it/s]"
     ]
    },
    {
     "name": "stdout",
     "output_type": "stream",
     "text": [
      "Epoch: 7, Loss:  0.013997267161095957\n"
     ]
    },
    {
     "name": "stderr",
     "output_type": "stream",
     "text": [
      "30it [00:05,  5.40it/s]\n"
     ]
    },
    {
     "name": "stdout",
     "output_type": "stream",
     "text": [
      "              precision    recall  f1-score   support\n",
      "\n",
      "           0       0.98      0.97      0.97       489\n",
      "           1       0.97      0.98      0.97       462\n",
      "\n",
      "    accuracy                           0.97       951\n",
      "   macro avg       0.97      0.97      0.97       951\n",
      "weighted avg       0.97      0.97      0.97       951\n",
      "\n"
     ]
    },
    {
     "name": "stderr",
     "output_type": "stream",
     "text": [
      "337it [01:25,  3.92it/s]\n",
      "1it [00:00,  5.44it/s]"
     ]
    },
    {
     "name": "stdout",
     "output_type": "stream",
     "text": [
      "Epoch: 8, Loss:  0.007125022146990384\n"
     ]
    },
    {
     "name": "stderr",
     "output_type": "stream",
     "text": [
      "30it [00:05,  5.40it/s]\n"
     ]
    },
    {
     "name": "stdout",
     "output_type": "stream",
     "text": [
      "              precision    recall  f1-score   support\n",
      "\n",
      "           0       0.99      0.96      0.98       489\n",
      "           1       0.96      0.99      0.97       462\n",
      "\n",
      "    accuracy                           0.97       951\n",
      "   macro avg       0.97      0.98      0.97       951\n",
      "weighted avg       0.98      0.97      0.97       951\n",
      "\n"
     ]
    },
    {
     "name": "stderr",
     "output_type": "stream",
     "text": [
      "337it [01:25,  3.92it/s]\n",
      "1it [00:00,  5.40it/s]"
     ]
    },
    {
     "name": "stdout",
     "output_type": "stream",
     "text": [
      "Epoch: 9, Loss:  0.006144700785293948\n"
     ]
    },
    {
     "name": "stderr",
     "output_type": "stream",
     "text": [
      "30it [00:05,  5.40it/s]\n"
     ]
    },
    {
     "name": "stdout",
     "output_type": "stream",
     "text": [
      "              precision    recall  f1-score   support\n",
      "\n",
      "           0       0.99      0.97      0.98       489\n",
      "           1       0.96      0.98      0.97       462\n",
      "\n",
      "    accuracy                           0.97       951\n",
      "   macro avg       0.97      0.98      0.97       951\n",
      "weighted avg       0.97      0.97      0.97       951\n",
      "\n"
     ]
    }
   ],
   "source": [
    "for epoch in range(EPOCHS):\n",
    "    out, tar = train(epoch)\n",
    "#     break"
   ]
  },
  {
   "cell_type": "code",
   "execution_count": 30,
   "metadata": {
    "execution": {
     "iopub.execute_input": "2020-12-10T07:48:31.989704Z",
     "iopub.status.busy": "2020-12-10T07:48:31.989484Z",
     "iopub.status.idle": "2020-12-10T07:48:31.994357Z",
     "shell.execute_reply": "2020-12-10T07:48:31.993547Z",
     "shell.execute_reply.started": "2020-12-10T07:48:31.989662Z"
    }
   },
   "outputs": [
    {
     "ename": "SyntaxError",
     "evalue": "invalid syntax (<ipython-input-30-c553cf5b9362>, line 1)",
     "output_type": "error",
     "traceback": [
      "\u001b[0;36m  File \u001b[0;32m\"<ipython-input-30-c553cf5b9362>\"\u001b[0;36m, line \u001b[0;32m1\u001b[0m\n\u001b[0;31m    out[0:10], tar[0:10]hjkhnk\u001b[0m\n\u001b[0m                        ^\u001b[0m\n\u001b[0;31mSyntaxError\u001b[0m\u001b[0;31m:\u001b[0m invalid syntax\n"
     ]
    }
   ],
   "source": [
    "out[0:10], tar[0:10]hjkhnk"
   ]
  },
  {
   "cell_type": "code",
   "execution_count": 34,
   "metadata": {
    "execution": {
     "iopub.execute_input": "2020-12-10T08:52:36.627776Z",
     "iopub.status.busy": "2020-12-10T08:52:36.627461Z",
     "iopub.status.idle": "2020-12-10T08:52:36.635317Z",
     "shell.execute_reply": "2020-12-10T08:52:36.634602Z",
     "shell.execute_reply.started": "2020-12-10T08:52:36.627744Z"
    }
   },
   "outputs": [],
   "source": [
    "# Creating the dataset and dataloader for the neural network\n",
    "\n",
    "# train_size = 0.8\n",
    "# test_data=test.sample(frac=1,random_state=200)\n",
    "# test_data=train.drop(train_data.index).reset_index(drop=True)\n",
    "test_data = test.reset_index(drop=True)\n",
    "testing = MultiLabelDataset(test_data, tokenizer, MAX_LEN, t=True)\n",
    "test_params = {'batch_size': VALID_BATCH_SIZE,\n",
    "                'shuffle': False,\n",
    "                'num_workers': 0\n",
    "                }\n",
    "testing_loader = DataLoader(testing, **test_params)"
   ]
  },
  {
   "cell_type": "code",
   "execution_count": 33,
   "metadata": {
    "execution": {
     "iopub.execute_input": "2020-12-10T08:51:29.770970Z",
     "iopub.status.busy": "2020-12-10T08:51:29.770788Z",
     "iopub.status.idle": "2020-12-10T08:51:30.039616Z",
     "shell.execute_reply": "2020-12-10T08:51:30.039057Z",
     "shell.execute_reply.started": "2020-12-10T08:51:29.770949Z"
    }
   },
   "outputs": [
    {
     "name": "stdout",
     "output_type": "stream",
     "text": [
      "Thu Dec 10 14:21:29 2020       \n",
      "+-----------------------------------------------------------------------------+\n",
      "| NVIDIA-SMI 440.95.01    Driver Version: 440.95.01    CUDA Version: 10.2     |\n",
      "|-------------------------------+----------------------+----------------------+\n",
      "| GPU  Name        Persistence-M| Bus-Id        Disp.A | Volatile Uncorr. ECC |\n",
      "| Fan  Temp  Perf  Pwr:Usage/Cap|         Memory-Usage | GPU-Util  Compute M. |\n",
      "|===============================+======================+======================|\n",
      "|   0  GeForce RTX 208...  Off  | 00000000:02:00.0 Off |                  N/A |\n",
      "| 29%   24C    P8    24W / 250W |     11MiB / 11019MiB |      0%      Default |\n",
      "+-------------------------------+----------------------+----------------------+\n",
      "|   1  GeForce RTX 208...  Off  | 00000000:03:00.0 Off |                  N/A |\n",
      "| 29%   26C    P8    23W / 250W |     11MiB / 11019MiB |      0%      Default |\n",
      "+-------------------------------+----------------------+----------------------+\n",
      "|   2  GeForce RTX 208...  Off  | 00000000:82:00.0 Off |                  N/A |\n",
      "| 29%   26C    P8    24W / 250W |   8562MiB / 11019MiB |      0%      Default |\n",
      "+-------------------------------+----------------------+----------------------+\n",
      "|   3  GeForce RTX 208...  Off  | 00000000:83:00.0 Off |                  N/A |\n",
      "| 30%   24C    P8    25W / 250W |   5086MiB / 11019MiB |      0%      Default |\n",
      "+-------------------------------+----------------------+----------------------+\n",
      "                                                                               \n",
      "+-----------------------------------------------------------------------------+\n",
      "| Processes:                                                       GPU Memory |\n",
      "|  GPU       PID   Type   Process name                             Usage      |\n",
      "|=============================================================================|\n",
      "|    2     26601      C   ....raha/miniconda3/envs/fastai/bin/python  8551MiB |\n",
      "|    3     26840      C   ....raha/miniconda3/envs/fastai/bin/python  5075MiB |\n",
      "+-----------------------------------------------------------------------------+\n"
     ]
    }
   ],
   "source": [
    "!nvidia-smi"
   ]
  },
  {
   "cell_type": "code",
   "execution_count": 35,
   "metadata": {
    "execution": {
     "iopub.execute_input": "2020-12-10T08:52:52.754741Z",
     "iopub.status.busy": "2020-12-10T08:52:52.754511Z",
     "iopub.status.idle": "2020-12-10T08:53:02.323252Z",
     "shell.execute_reply": "2020-12-10T08:53:02.322734Z",
     "shell.execute_reply.started": "2020-12-10T08:52:52.754714Z"
    }
   },
   "outputs": [
    {
     "name": "stderr",
     "output_type": "stream",
     "text": [
      "52it [00:09,  5.55it/s]\n"
     ]
    }
   ],
   "source": [
    "\n",
    "fin_targets=[]\n",
    "fin_outputs=[]\n",
    "# print(f'Epoch: {epoch}, Loss:  {total_train_loss/count}')\n",
    "with torch.no_grad():\n",
    "    model = torch.load('/scratch/'+lab+'_epoch_6', map_location=device)\n",
    "    model.eval()\n",
    "    for _, data in tqdm(enumerate(testing_loader, 0)):\n",
    "        ids = data['ids'].to(device, dtype = torch.long)\n",
    "        mask = data['mask'].to(device, dtype = torch.long)\n",
    "        token_type_ids = data['token_type_ids'].to(device, dtype = torch.long)\n",
    "        h_ids = data['h_ids'].to(device, dtype = torch.long)\n",
    "        h_mask = data['h_mask'].to(device, dtype = torch.long)\n",
    "        h_token_type_ids = data['h_token_type_ids'].to(device, dtype = torch.long)\n",
    "#         targets = data['targets'].to(device, dtype = torch.long)\n",
    "        emoji = data['emoji'].to(device, dtype = torch.long)\n",
    "        outputs = model(ids, mask, token_type_ids, h_ids, h_mask, h_token_type_ids, emoji)\n",
    "#         fin_targets.extend(targets.cpu().detach().numpy().tolist())\n",
    "        fin_outputs.extend(torch.sigmoid(outputs).cpu().detach().numpy().tolist())\n",
    "fin_outputs = list(np.argmax(np.array(fin_outputs), axis=1).flatten())\n",
    "# print(classification_report(fin_outputs, fin_targets))"
   ]
  },
  {
   "cell_type": "code",
   "execution_count": 36,
   "metadata": {
    "execution": {
     "iopub.execute_input": "2020-12-10T08:53:14.574212Z",
     "iopub.status.busy": "2020-12-10T08:53:14.574000Z",
     "iopub.status.idle": "2020-12-10T08:53:14.579836Z",
     "shell.execute_reply": "2020-12-10T08:53:14.579096Z",
     "shell.execute_reply.started": "2020-12-10T08:53:14.574185Z"
    }
   },
   "outputs": [
    {
     "data": {
      "text/plain": [
       "[1, 0, 1, 1, 1, 0, 0, 1, 1, 1, 1, 1, 0, 1, 1, 1, 1, 0, 1, 1]"
      ]
     },
     "execution_count": 36,
     "metadata": {},
     "output_type": "execute_result"
    }
   ],
   "source": [
    "fin_outputs[0:20]"
   ]
  },
  {
   "cell_type": "code",
   "execution_count": 38,
   "metadata": {
    "execution": {
     "iopub.execute_input": "2020-12-10T08:53:56.439227Z",
     "iopub.status.busy": "2020-12-10T08:53:56.439007Z",
     "iopub.status.idle": "2020-12-10T08:53:56.470726Z",
     "shell.execute_reply": "2020-12-10T08:53:56.470206Z",
     "shell.execute_reply.started": "2020-12-10T08:53:56.439201Z"
    }
   },
   "outputs": [
    {
     "data": {
      "text/html": [
       "<div>\n",
       "<style scoped>\n",
       "    .dataframe tbody tr th:only-of-type {\n",
       "        vertical-align: middle;\n",
       "    }\n",
       "\n",
       "    .dataframe tbody tr th {\n",
       "        vertical-align: top;\n",
       "    }\n",
       "\n",
       "    .dataframe thead th {\n",
       "        text-align: right;\n",
       "    }\n",
       "</style>\n",
       "<table border=\"1\" class=\"dataframe\">\n",
       "  <thead>\n",
       "    <tr style=\"text-align: right;\">\n",
       "      <th></th>\n",
       "      <th>tweet_id</th>\n",
       "      <th>full_tweet</th>\n",
       "      <th>tweet_raw_text</th>\n",
       "      <th>hashtags</th>\n",
       "      <th>smiley</th>\n",
       "      <th>emoji</th>\n",
       "      <th>url</th>\n",
       "      <th>mentions</th>\n",
       "      <th>numerals</th>\n",
       "      <th>reserved_word</th>\n",
       "      <th>emotext</th>\n",
       "      <th>segmented_hash</th>\n",
       "      <th>tweet</th>\n",
       "    </tr>\n",
       "  </thead>\n",
       "  <tbody>\n",
       "    <tr>\n",
       "      <th>0</th>\n",
       "      <td>1</td>\n",
       "      <td>कीस की को रोजगार चाहिए फिर नहीं कहना रोजगार नह...</td>\n",
       "      <td>कीस की को रोजगार चाहिए फिर नहीं कहना रोजगार नह...</td>\n",
       "      <td>[]</td>\n",
       "      <td>[]</td>\n",
       "      <td>[]</td>\n",
       "      <td>[]</td>\n",
       "      <td>[]</td>\n",
       "      <td>[20, 6, 10, 20, 6]</td>\n",
       "      <td>[]</td>\n",
       "      <td>[]</td>\n",
       "      <td>[]</td>\n",
       "      <td>कीस की को रोजगार चाहिए फिर नहीं कहना रोजगार नह...</td>\n",
       "    </tr>\n",
       "    <tr>\n",
       "      <th>1</th>\n",
       "      <td>2</td>\n",
       "      <td>पटना: BMP कैंप में पुरुष और महिला कांस्टेबल ने...</td>\n",
       "      <td>पटना :  BMP कैंप में पुरुष और महिला कांस्टेबल ...</td>\n",
       "      <td>[]</td>\n",
       "      <td>[]</td>\n",
       "      <td>[]</td>\n",
       "      <td>[https://t.co/Dq05hREifM]</td>\n",
       "      <td>[@kumarprakash4u]</td>\n",
       "      <td>[]</td>\n",
       "      <td>[]</td>\n",
       "      <td>[]</td>\n",
       "      <td>[]</td>\n",
       "      <td>पटना: BMP कैंप में पुरुष और महिला कांस्टेबल ने...</td>\n",
       "    </tr>\n",
       "    <tr>\n",
       "      <th>2</th>\n",
       "      <td>3</td>\n",
       "      <td>कोई भी कांग्रेसी, ऊंची छत पर, रेलवे लाइन पर, ऊ...</td>\n",
       "      <td>कोई भी कांग्रेसी ,  ऊंची छत पर ,  रेलवे लाइन प...</td>\n",
       "      <td>[]</td>\n",
       "      <td>[]</td>\n",
       "      <td>[🙏, 😂, 👍]</td>\n",
       "      <td>[]</td>\n",
       "      <td>[]</td>\n",
       "      <td>[]</td>\n",
       "      <td>[]</td>\n",
       "      <td>[folded hands, face with tears of joy, thumbs up]</td>\n",
       "      <td>[]</td>\n",
       "      <td>कोई भी कांग्रेसी, ऊंची छत पर, रेलवे लाइन पर, ऊ...</td>\n",
       "    </tr>\n",
       "    <tr>\n",
       "      <th>3</th>\n",
       "      <td>4</td>\n",
       "      <td>अंडरवर्ल्ड डॉन छोटा राजन के भाई को बीजेपी द्वा...</td>\n",
       "      <td>अंडरवर्ल्ड डॉन छोटा राजन के भाई को बीजेपी द्वा...</td>\n",
       "      <td>[]</td>\n",
       "      <td>[]</td>\n",
       "      <td>[]</td>\n",
       "      <td>[]</td>\n",
       "      <td>[]</td>\n",
       "      <td>[]</td>\n",
       "      <td>[]</td>\n",
       "      <td>[]</td>\n",
       "      <td>[]</td>\n",
       "      <td>अंडरवर्ल्ड डॉन छोटा राजन के भाई को बीजेपी द्वा...</td>\n",
       "    </tr>\n",
       "    <tr>\n",
       "      <th>4</th>\n",
       "      <td>5</td>\n",
       "      <td>RT @_Pb_swain_: इन पंचर छापों को कोन समझाए कि ...</td>\n",
       "      <td>:  इन पंचर छापों को कोन समझाए कि उनके रोजगार म...</td>\n",
       "      <td>[]</td>\n",
       "      <td>[]</td>\n",
       "      <td>[👇, 😂, 😂, 😂, 😂]</td>\n",
       "      <td>[]</td>\n",
       "      <td>[@_Pb_swain_]</td>\n",
       "      <td>[]</td>\n",
       "      <td>[RT]</td>\n",
       "      <td>[backhand index pointing down, face with tears...</td>\n",
       "      <td>[]</td>\n",
       "      <td>RT @_Pb_swain_: इन पंचर छापों को कोन समझाए कि ...</td>\n",
       "    </tr>\n",
       "    <tr>\n",
       "      <th>5</th>\n",
       "      <td>6</td>\n",
       "      <td>पश्चिम बंगाल में फिर हुई माओवादियों की वापसी, ...</td>\n",
       "      <td>पश्चिम बंगाल में फिर हुई माओवादियों की वापसी ,...</td>\n",
       "      <td>[#Maoist, #WestBengal]</td>\n",
       "      <td>[]</td>\n",
       "      <td>[]</td>\n",
       "      <td>[https://t.co/pP1AOvOv0b]</td>\n",
       "      <td>[]</td>\n",
       "      <td>[]</td>\n",
       "      <td>[]</td>\n",
       "      <td>[]</td>\n",
       "      <td>[maoist, west bengal]</td>\n",
       "      <td>पश्चिम बंगाल में फिर हुई माओवादियों की वापसी, ...</td>\n",
       "    </tr>\n",
       "    <tr>\n",
       "      <th>6</th>\n",
       "      <td>7</td>\n",
       "      <td>#Breaking-कंगना मामले पर बोले मनोज तिवारी-कहा ...</td>\n",
       "      <td>#Breaking-कंगना मामले पर बोले मनोज तिवारी-कहा ...</td>\n",
       "      <td>[#Breaking, #Sushantsinghcase, #Kangana]</td>\n",
       "      <td>[]</td>\n",
       "      <td>[]</td>\n",
       "      <td>[https://t.co/szOTZWq1hI]</td>\n",
       "      <td>[]</td>\n",
       "      <td>[]</td>\n",
       "      <td>[]</td>\n",
       "      <td>[]</td>\n",
       "      <td>[breaking, sushantsinghcase, kangana]</td>\n",
       "      <td>#Breaking-कंगना मामले पर बोले मनोज तिवारी-कहा ...</td>\n",
       "    </tr>\n",
       "    <tr>\n",
       "      <th>7</th>\n",
       "      <td>8</td>\n",
       "      <td>@BasudebaTripat4: @Rajanspsingh1 अच्छा किया सा...</td>\n",
       "      <td>:  अच्छा किया साले का सर फोड़ दिया ,  ,  गर्दन...</td>\n",
       "      <td>[]</td>\n",
       "      <td>[]</td>\n",
       "      <td>[]</td>\n",
       "      <td>[]</td>\n",
       "      <td>[@BasudebaTripat4, @Rajanspsingh1]</td>\n",
       "      <td>[]</td>\n",
       "      <td>[]</td>\n",
       "      <td>[]</td>\n",
       "      <td>[]</td>\n",
       "      <td>@BasudebaTripat4: @Rajanspsingh1 अच्छा किया सा...</td>\n",
       "    </tr>\n",
       "    <tr>\n",
       "      <th>8</th>\n",
       "      <td>9</td>\n",
       "      <td>हैदराबाद बीजेपी विधायक राजा सिंह की बहन माया द...</td>\n",
       "      <td>हैदराबाद बीजेपी विधायक राजा सिंह की बहन माया द...</td>\n",
       "      <td>[]</td>\n",
       "      <td>[]</td>\n",
       "      <td>[]</td>\n",
       "      <td>[]</td>\n",
       "      <td>[]</td>\n",
       "      <td>[]</td>\n",
       "      <td>[]</td>\n",
       "      <td>[]</td>\n",
       "      <td>[]</td>\n",
       "      <td>हैदराबाद बीजेपी विधायक राजा सिंह की बहन माया द...</td>\n",
       "    </tr>\n",
       "    <tr>\n",
       "      <th>9</th>\n",
       "      <td>10</td>\n",
       "      <td>कमलनाथ के राज में 100,₹ में 100यूनिट बिजली मिल...</td>\n",
       "      <td>कमलनाथ के राज में , ₹ में 100यूनिट बिजली मिल र...</td>\n",
       "      <td>[]</td>\n",
       "      <td>[]</td>\n",
       "      <td>[]</td>\n",
       "      <td>[]</td>\n",
       "      <td>[]</td>\n",
       "      <td>[100, 100, 500, 1000]</td>\n",
       "      <td>[]</td>\n",
       "      <td>[]</td>\n",
       "      <td>[]</td>\n",
       "      <td>कमलनाथ के राज में 100,₹ में 100यूनिट बिजली मिल...</td>\n",
       "    </tr>\n",
       "  </tbody>\n",
       "</table>\n",
       "</div>"
      ],
      "text/plain": [
       "  tweet_id                                         full_tweet  \\\n",
       "0        1  कीस की को रोजगार चाहिए फिर नहीं कहना रोजगार नह...   \n",
       "1        2  पटना: BMP कैंप में पुरुष और महिला कांस्टेबल ने...   \n",
       "2        3  कोई भी कांग्रेसी, ऊंची छत पर, रेलवे लाइन पर, ऊ...   \n",
       "3        4  अंडरवर्ल्ड डॉन छोटा राजन के भाई को बीजेपी द्वा...   \n",
       "4        5  RT @_Pb_swain_: इन पंचर छापों को कोन समझाए कि ...   \n",
       "5        6  पश्चिम बंगाल में फिर हुई माओवादियों की वापसी, ...   \n",
       "6        7  #Breaking-कंगना मामले पर बोले मनोज तिवारी-कहा ...   \n",
       "7        8  @BasudebaTripat4: @Rajanspsingh1 अच्छा किया सा...   \n",
       "8        9  हैदराबाद बीजेपी विधायक राजा सिंह की बहन माया द...   \n",
       "9       10  कमलनाथ के राज में 100,₹ में 100यूनिट बिजली मिल...   \n",
       "\n",
       "                                      tweet_raw_text  \\\n",
       "0  कीस की को रोजगार चाहिए फिर नहीं कहना रोजगार नह...   \n",
       "1  पटना :  BMP कैंप में पुरुष और महिला कांस्टेबल ...   \n",
       "2  कोई भी कांग्रेसी ,  ऊंची छत पर ,  रेलवे लाइन प...   \n",
       "3  अंडरवर्ल्ड डॉन छोटा राजन के भाई को बीजेपी द्वा...   \n",
       "4  :  इन पंचर छापों को कोन समझाए कि उनके रोजगार म...   \n",
       "5  पश्चिम बंगाल में फिर हुई माओवादियों की वापसी ,...   \n",
       "6  #Breaking-कंगना मामले पर बोले मनोज तिवारी-कहा ...   \n",
       "7  :  अच्छा किया साले का सर फोड़ दिया ,  ,  गर्दन...   \n",
       "8  हैदराबाद बीजेपी विधायक राजा सिंह की बहन माया द...   \n",
       "9  कमलनाथ के राज में , ₹ में 100यूनिट बिजली मिल र...   \n",
       "\n",
       "                                   hashtags smiley            emoji  \\\n",
       "0                                        []     []               []   \n",
       "1                                        []     []               []   \n",
       "2                                        []     []        [🙏, 😂, 👍]   \n",
       "3                                        []     []               []   \n",
       "4                                        []     []  [👇, 😂, 😂, 😂, 😂]   \n",
       "5                    [#Maoist, #WestBengal]     []               []   \n",
       "6  [#Breaking, #Sushantsinghcase, #Kangana]     []               []   \n",
       "7                                        []     []               []   \n",
       "8                                        []     []               []   \n",
       "9                                        []     []               []   \n",
       "\n",
       "                         url                            mentions  \\\n",
       "0                         []                                  []   \n",
       "1  [https://t.co/Dq05hREifM]                   [@kumarprakash4u]   \n",
       "2                         []                                  []   \n",
       "3                         []                                  []   \n",
       "4                         []                       [@_Pb_swain_]   \n",
       "5  [https://t.co/pP1AOvOv0b]                                  []   \n",
       "6  [https://t.co/szOTZWq1hI]                                  []   \n",
       "7                         []  [@BasudebaTripat4, @Rajanspsingh1]   \n",
       "8                         []                                  []   \n",
       "9                         []                                  []   \n",
       "\n",
       "                numerals reserved_word  \\\n",
       "0     [20, 6, 10, 20, 6]            []   \n",
       "1                     []            []   \n",
       "2                     []            []   \n",
       "3                     []            []   \n",
       "4                     []          [RT]   \n",
       "5                     []            []   \n",
       "6                     []            []   \n",
       "7                     []            []   \n",
       "8                     []            []   \n",
       "9  [100, 100, 500, 1000]            []   \n",
       "\n",
       "                                             emotext  \\\n",
       "0                                                 []   \n",
       "1                                                 []   \n",
       "2  [folded hands, face with tears of joy, thumbs up]   \n",
       "3                                                 []   \n",
       "4  [backhand index pointing down, face with tears...   \n",
       "5                                                 []   \n",
       "6                                                 []   \n",
       "7                                                 []   \n",
       "8                                                 []   \n",
       "9                                                 []   \n",
       "\n",
       "                          segmented_hash  \\\n",
       "0                                     []   \n",
       "1                                     []   \n",
       "2                                     []   \n",
       "3                                     []   \n",
       "4                                     []   \n",
       "5                  [maoist, west bengal]   \n",
       "6  [breaking, sushantsinghcase, kangana]   \n",
       "7                                     []   \n",
       "8                                     []   \n",
       "9                                     []   \n",
       "\n",
       "                                               tweet  \n",
       "0  कीस की को रोजगार चाहिए फिर नहीं कहना रोजगार नह...  \n",
       "1  पटना: BMP कैंप में पुरुष और महिला कांस्टेबल ने...  \n",
       "2  कोई भी कांग्रेसी, ऊंची छत पर, रेलवे लाइन पर, ऊ...  \n",
       "3  अंडरवर्ल्ड डॉन छोटा राजन के भाई को बीजेपी द्वा...  \n",
       "4  RT @_Pb_swain_: इन पंचर छापों को कोन समझाए कि ...  \n",
       "5  पश्चिम बंगाल में फिर हुई माओवादियों की वापसी, ...  \n",
       "6  #Breaking-कंगना मामले पर बोले मनोज तिवारी-कहा ...  \n",
       "7  @BasudebaTripat4: @Rajanspsingh1 अच्छा किया सा...  \n",
       "8  हैदराबाद बीजेपी विधायक राजा सिंह की बहन माया द...  \n",
       "9  कमलनाथ के राज में 100,₹ में 100यूनिट बिजली मिल...  "
      ]
     },
     "execution_count": 38,
     "metadata": {},
     "output_type": "execute_result"
    }
   ],
   "source": [
    "test_data.head(10)"
   ]
  },
  {
   "cell_type": "code",
   "execution_count": 39,
   "metadata": {
    "execution": {
     "iopub.execute_input": "2020-12-10T08:54:07.780792Z",
     "iopub.status.busy": "2020-12-10T08:54:07.780462Z",
     "iopub.status.idle": "2020-12-10T08:54:07.785638Z",
     "shell.execute_reply": "2020-12-10T08:54:07.785044Z",
     "shell.execute_reply.started": "2020-12-10T08:54:07.780762Z"
    }
   },
   "outputs": [],
   "source": [
    "test['label'] = np.array(fin_outputs)"
   ]
  },
  {
   "cell_type": "code",
   "execution_count": 40,
   "metadata": {
    "execution": {
     "iopub.execute_input": "2020-12-10T08:54:09.339258Z",
     "iopub.status.busy": "2020-12-10T08:54:09.339105Z",
     "iopub.status.idle": "2020-12-10T08:54:09.343302Z",
     "shell.execute_reply": "2020-12-10T08:54:09.342648Z",
     "shell.execute_reply.started": "2020-12-10T08:54:09.339239Z"
    }
   },
   "outputs": [
    {
     "data": {
      "text/plain": [
       "1653"
      ]
     },
     "execution_count": 40,
     "metadata": {},
     "output_type": "execute_result"
    }
   ],
   "source": [
    "len(fin_outputs)"
   ]
  },
  {
   "cell_type": "code",
   "execution_count": 41,
   "metadata": {
    "execution": {
     "iopub.execute_input": "2020-12-10T08:54:11.051174Z",
     "iopub.status.busy": "2020-12-10T08:54:11.051024Z",
     "iopub.status.idle": "2020-12-10T08:54:11.054564Z",
     "shell.execute_reply": "2020-12-10T08:54:11.054073Z",
     "shell.execute_reply.started": "2020-12-10T08:54:11.051155Z"
    }
   },
   "outputs": [
    {
     "data": {
      "text/plain": [
       "1653"
      ]
     },
     "execution_count": 41,
     "metadata": {},
     "output_type": "execute_result"
    }
   ],
   "source": [
    "len(test.full_tweet.values)"
   ]
  },
  {
   "cell_type": "code",
   "execution_count": 42,
   "metadata": {
    "execution": {
     "iopub.execute_input": "2020-12-10T08:54:13.454840Z",
     "iopub.status.busy": "2020-12-10T08:54:13.454610Z",
     "iopub.status.idle": "2020-12-10T08:54:13.490432Z",
     "shell.execute_reply": "2020-12-10T08:54:13.489893Z",
     "shell.execute_reply.started": "2020-12-10T08:54:13.454814Z"
    }
   },
   "outputs": [
    {
     "data": {
      "text/html": [
       "<div>\n",
       "<style scoped>\n",
       "    .dataframe tbody tr th:only-of-type {\n",
       "        vertical-align: middle;\n",
       "    }\n",
       "\n",
       "    .dataframe tbody tr th {\n",
       "        vertical-align: top;\n",
       "    }\n",
       "\n",
       "    .dataframe thead th {\n",
       "        text-align: right;\n",
       "    }\n",
       "</style>\n",
       "<table border=\"1\" class=\"dataframe\">\n",
       "  <thead>\n",
       "    <tr style=\"text-align: right;\">\n",
       "      <th></th>\n",
       "      <th>tweet_id</th>\n",
       "      <th>full_tweet</th>\n",
       "      <th>tweet_raw_text</th>\n",
       "      <th>hashtags</th>\n",
       "      <th>smiley</th>\n",
       "      <th>emoji</th>\n",
       "      <th>url</th>\n",
       "      <th>mentions</th>\n",
       "      <th>numerals</th>\n",
       "      <th>reserved_word</th>\n",
       "      <th>emotext</th>\n",
       "      <th>segmented_hash</th>\n",
       "      <th>tweet</th>\n",
       "      <th>label</th>\n",
       "    </tr>\n",
       "  </thead>\n",
       "  <tbody>\n",
       "    <tr>\n",
       "      <th>1364</th>\n",
       "      <td>1365</td>\n",
       "      <td>#COVID19Update:  #COVID19 से अब तक 28,39,882 ल...</td>\n",
       "      <td>:   से अब तक 28 , 39 , 882 लोग स्वस्थ हो चुके ...</td>\n",
       "      <td>[#COVID19Update, #COVID19, #IndiaFightsCorona]</td>\n",
       "      <td>[]</td>\n",
       "      <td>[👇]</td>\n",
       "      <td>[https://t.co/46qZfpXmJQ]</td>\n",
       "      <td>[]</td>\n",
       "      <td>[28,39,882, 7,86,996]</td>\n",
       "      <td>[]</td>\n",
       "      <td>[backhand index pointing down]</td>\n",
       "      <td>[covid 19 update, covid 19, india fights corona]</td>\n",
       "      <td>#COVID19Update:  #COVID19 से अब तक 28,39,882 ल...</td>\n",
       "      <td>0</td>\n",
       "    </tr>\n",
       "    <tr>\n",
       "      <th>427</th>\n",
       "      <td>428</td>\n",
       "      <td>#Banda बाइक अनियंत्रित होकर खड़े ट्रक से टकराई...</td>\n",
       "      <td>बाइक अनियंत्रित होकर खड़े ट्रक से टकराई ,  हाद...</td>\n",
       "      <td>[#Banda, #policemedianews]</td>\n",
       "      <td>[]</td>\n",
       "      <td>[]</td>\n",
       "      <td>[]</td>\n",
       "      <td>[@bandapolice, @Uppolice]</td>\n",
       "      <td>[]</td>\n",
       "      <td>[]</td>\n",
       "      <td>[]</td>\n",
       "      <td>[banda, police media news]</td>\n",
       "      <td>#Banda बाइक अनियंत्रित होकर खड़े ट्रक से टकराई...</td>\n",
       "      <td>0</td>\n",
       "    </tr>\n",
       "    <tr>\n",
       "      <th>1310</th>\n",
       "      <td>1311</td>\n",
       "      <td>प्रणब दा को आखिरी विदाई LIVE: मोदी, राजनाथ और ...</td>\n",
       "      <td>प्रणब दा को आखिरी विदाई LIVE :  मोदी ,  राजनाथ...</td>\n",
       "      <td>[#PranabMukherjee]</td>\n",
       "      <td>[]</td>\n",
       "      <td>[]</td>\n",
       "      <td>[https://t.co/QJNqbttyPl, https://t.co/kh6E8xe...</td>\n",
       "      <td>[@narendramodi]</td>\n",
       "      <td>[]</td>\n",
       "      <td>[]</td>\n",
       "      <td>[]</td>\n",
       "      <td>[pranab mukherjee]</td>\n",
       "      <td>प्रणब दा को आखिरी विदाई LIVE: मोदी, राजनाथ और ...</td>\n",
       "      <td>0</td>\n",
       "    </tr>\n",
       "    <tr>\n",
       "      <th>203</th>\n",
       "      <td>204</td>\n",
       "      <td>आठवले की सिब्बल व आजाद को सलाह, सालों तक सत्ता...</td>\n",
       "      <td>आठवले की सिब्बल व आजाद को सलाह ,  सालों तक सत्...</td>\n",
       "      <td>[#NDA, #CongressPresident, #kapilsibal, #gulam...</td>\n",
       "      <td>[]</td>\n",
       "      <td>[]</td>\n",
       "      <td>[https://t.co/B4vqLFBoAK]</td>\n",
       "      <td>[@RamdasAthawale]</td>\n",
       "      <td>[]</td>\n",
       "      <td>[]</td>\n",
       "      <td>[]</td>\n",
       "      <td>[nda, congress president, kapil sibal, gulam n...</td>\n",
       "      <td>आठवले की सिब्बल व आजाद को सलाह, सालों तक सत्ता...</td>\n",
       "      <td>0</td>\n",
       "    </tr>\n",
       "    <tr>\n",
       "      <th>1185</th>\n",
       "      <td>1186</td>\n",
       "      <td>भारत के सैनिकों ने हमें बहुत मारा ! लेकिन घसीट...</td>\n",
       "      <td>भारत के सैनिकों ने हमें बहुत मारा ! लेकिन घसीट...</td>\n",
       "      <td>[]</td>\n",
       "      <td>[]</td>\n",
       "      <td>[😭, 😭, 😭, 😂, 😂]</td>\n",
       "      <td>[]</td>\n",
       "      <td>[]</td>\n",
       "      <td>[]</td>\n",
       "      <td>[]</td>\n",
       "      <td>[loudly crying face, loudly crying face, loudl...</td>\n",
       "      <td>[]</td>\n",
       "      <td>भारत के सैनिकों ने हमें बहुत मारा ! लेकिन घसीट...</td>\n",
       "      <td>1</td>\n",
       "    </tr>\n",
       "    <tr>\n",
       "      <th>1257</th>\n",
       "      <td>1258</td>\n",
       "      <td>आपको शैतान ने गुमराह कर दिया है जनाब। चुसलाम श...</td>\n",
       "      <td>आपको शैतान ने गुमराह कर दिया है जनाब। चुसलाम श...</td>\n",
       "      <td>[]</td>\n",
       "      <td>[]</td>\n",
       "      <td>[]</td>\n",
       "      <td>[]</td>\n",
       "      <td>[]</td>\n",
       "      <td>[]</td>\n",
       "      <td>[]</td>\n",
       "      <td>[]</td>\n",
       "      <td>[]</td>\n",
       "      <td>आपको शैतान ने गुमराह कर दिया है जनाब। चुसलाम श...</td>\n",
       "      <td>1</td>\n",
       "    </tr>\n",
       "    <tr>\n",
       "      <th>405</th>\n",
       "      <td>406</td>\n",
       "      <td>Gold Price Today: गिरावट की वजह से सोने की चमक...</td>\n",
       "      <td>Gold Price Today :  गिरावट की वजह से सोने की च...</td>\n",
       "      <td>[#Gold, #GoldPrice]</td>\n",
       "      <td>[]</td>\n",
       "      <td>[]</td>\n",
       "      <td>[https://t.co/Dqyq0tH4jy, https://t.co/4IKe88O...</td>\n",
       "      <td>[@NavbharatTimes]</td>\n",
       "      <td>[]</td>\n",
       "      <td>[]</td>\n",
       "      <td>[]</td>\n",
       "      <td>[gold, gold price]</td>\n",
       "      <td>Gold Price Today: गिरावट की वजह से सोने की चमक...</td>\n",
       "      <td>0</td>\n",
       "    </tr>\n",
       "    <tr>\n",
       "      <th>950</th>\n",
       "      <td>951</td>\n",
       "      <td>रफ्तार के शौकीनों के लिए Triumph भारत में अपनी...</td>\n",
       "      <td>रफ्तार के शौकीनों के लिए Triumph भारत में अपनी...</td>\n",
       "      <td>[#Triumph, #Rocket3GT]</td>\n",
       "      <td>[]</td>\n",
       "      <td>[]</td>\n",
       "      <td>[https://t.co/D8TwlL6nJC]</td>\n",
       "      <td>[]</td>\n",
       "      <td>[3]</td>\n",
       "      <td>[]</td>\n",
       "      <td>[]</td>\n",
       "      <td>[triumph, rocket 3 gt]</td>\n",
       "      <td>रफ्तार के शौकीनों के लिए Triumph भारत में अपनी...</td>\n",
       "      <td>0</td>\n",
       "    </tr>\n",
       "    <tr>\n",
       "      <th>783</th>\n",
       "      <td>784</td>\n",
       "      <td>उत्‍तर प्रदेश में दुकानें सुबह नौ से रात नौ बज...</td>\n",
       "      <td>उत्‍तर प्रदेश में दुकानें सुबह नौ से रात नौ बज...</td>\n",
       "      <td>[]</td>\n",
       "      <td>[]</td>\n",
       "      <td>[]</td>\n",
       "      <td>[https://t.co/ux0JUpsdvA]</td>\n",
       "      <td>[]</td>\n",
       "      <td>[]</td>\n",
       "      <td>[]</td>\n",
       "      <td>[]</td>\n",
       "      <td>[]</td>\n",
       "      <td>उत्‍तर प्रदेश में दुकानें सुबह नौ से रात नौ बज...</td>\n",
       "      <td>0</td>\n",
       "    </tr>\n",
       "    <tr>\n",
       "      <th>451</th>\n",
       "      <td>452</td>\n",
       "      <td>facebook.com/pramod.singh.7127146 ये प्रमोद सि...</td>\n",
       "      <td>ये प्रमोद सिंह जी की फेसबुक आईडी है जिस पर एक ...</td>\n",
       "      <td>[#प]</td>\n",
       "      <td>[]</td>\n",
       "      <td>[]</td>\n",
       "      <td>[facebook.com/pramod.singh.7127146]</td>\n",
       "      <td>[@Uppolice, @DelhiPolice]</td>\n",
       "      <td>[]</td>\n",
       "      <td>[]</td>\n",
       "      <td>[]</td>\n",
       "      <td>[प]</td>\n",
       "      <td>facebook.com/pramod.singh.7127146 ये प्रमोद सि...</td>\n",
       "      <td>1</td>\n",
       "    </tr>\n",
       "  </tbody>\n",
       "</table>\n",
       "</div>"
      ],
      "text/plain": [
       "     tweet_id                                         full_tweet  \\\n",
       "1364     1365  #COVID19Update:  #COVID19 से अब तक 28,39,882 ल...   \n",
       "427       428  #Banda बाइक अनियंत्रित होकर खड़े ट्रक से टकराई...   \n",
       "1310     1311  प्रणब दा को आखिरी विदाई LIVE: मोदी, राजनाथ और ...   \n",
       "203       204  आठवले की सिब्बल व आजाद को सलाह, सालों तक सत्ता...   \n",
       "1185     1186  भारत के सैनिकों ने हमें बहुत मारा ! लेकिन घसीट...   \n",
       "1257     1258  आपको शैतान ने गुमराह कर दिया है जनाब। चुसलाम श...   \n",
       "405       406  Gold Price Today: गिरावट की वजह से सोने की चमक...   \n",
       "950       951  रफ्तार के शौकीनों के लिए Triumph भारत में अपनी...   \n",
       "783       784  उत्‍तर प्रदेश में दुकानें सुबह नौ से रात नौ बज...   \n",
       "451       452  facebook.com/pramod.singh.7127146 ये प्रमोद सि...   \n",
       "\n",
       "                                         tweet_raw_text  \\\n",
       "1364  :   से अब तक 28 , 39 , 882 लोग स्वस्थ हो चुके ...   \n",
       "427   बाइक अनियंत्रित होकर खड़े ट्रक से टकराई ,  हाद...   \n",
       "1310  प्रणब दा को आखिरी विदाई LIVE :  मोदी ,  राजनाथ...   \n",
       "203   आठवले की सिब्बल व आजाद को सलाह ,  सालों तक सत्...   \n",
       "1185  भारत के सैनिकों ने हमें बहुत मारा ! लेकिन घसीट...   \n",
       "1257  आपको शैतान ने गुमराह कर दिया है जनाब। चुसलाम श...   \n",
       "405   Gold Price Today :  गिरावट की वजह से सोने की च...   \n",
       "950   रफ्तार के शौकीनों के लिए Triumph भारत में अपनी...   \n",
       "783   उत्‍तर प्रदेश में दुकानें सुबह नौ से रात नौ बज...   \n",
       "451   ये प्रमोद सिंह जी की फेसबुक आईडी है जिस पर एक ...   \n",
       "\n",
       "                                               hashtags smiley  \\\n",
       "1364     [#COVID19Update, #COVID19, #IndiaFightsCorona]     []   \n",
       "427                          [#Banda, #policemedianews]     []   \n",
       "1310                                 [#PranabMukherjee]     []   \n",
       "203   [#NDA, #CongressPresident, #kapilsibal, #gulam...     []   \n",
       "1185                                                 []     []   \n",
       "1257                                                 []     []   \n",
       "405                                 [#Gold, #GoldPrice]     []   \n",
       "950                              [#Triumph, #Rocket3GT]     []   \n",
       "783                                                  []     []   \n",
       "451                                                [#प]     []   \n",
       "\n",
       "                emoji                                                url  \\\n",
       "1364              [👇]                          [https://t.co/46qZfpXmJQ]   \n",
       "427                []                                                 []   \n",
       "1310               []  [https://t.co/QJNqbttyPl, https://t.co/kh6E8xe...   \n",
       "203                []                          [https://t.co/B4vqLFBoAK]   \n",
       "1185  [😭, 😭, 😭, 😂, 😂]                                                 []   \n",
       "1257               []                                                 []   \n",
       "405                []  [https://t.co/Dqyq0tH4jy, https://t.co/4IKe88O...   \n",
       "950                []                          [https://t.co/D8TwlL6nJC]   \n",
       "783                []                          [https://t.co/ux0JUpsdvA]   \n",
       "451                []                [facebook.com/pramod.singh.7127146]   \n",
       "\n",
       "                       mentions               numerals reserved_word  \\\n",
       "1364                         []  [28,39,882, 7,86,996]            []   \n",
       "427   [@bandapolice, @Uppolice]                     []            []   \n",
       "1310            [@narendramodi]                     []            []   \n",
       "203           [@RamdasAthawale]                     []            []   \n",
       "1185                         []                     []            []   \n",
       "1257                         []                     []            []   \n",
       "405           [@NavbharatTimes]                     []            []   \n",
       "950                          []                    [3]            []   \n",
       "783                          []                     []            []   \n",
       "451   [@Uppolice, @DelhiPolice]                     []            []   \n",
       "\n",
       "                                                emotext  \\\n",
       "1364                     [backhand index pointing down]   \n",
       "427                                                  []   \n",
       "1310                                                 []   \n",
       "203                                                  []   \n",
       "1185  [loudly crying face, loudly crying face, loudl...   \n",
       "1257                                                 []   \n",
       "405                                                  []   \n",
       "950                                                  []   \n",
       "783                                                  []   \n",
       "451                                                  []   \n",
       "\n",
       "                                         segmented_hash  \\\n",
       "1364   [covid 19 update, covid 19, india fights corona]   \n",
       "427                          [banda, police media news]   \n",
       "1310                                 [pranab mukherjee]   \n",
       "203   [nda, congress president, kapil sibal, gulam n...   \n",
       "1185                                                 []   \n",
       "1257                                                 []   \n",
       "405                                  [gold, gold price]   \n",
       "950                              [triumph, rocket 3 gt]   \n",
       "783                                                  []   \n",
       "451                                                 [प]   \n",
       "\n",
       "                                                  tweet  label  \n",
       "1364  #COVID19Update:  #COVID19 से अब तक 28,39,882 ल...      0  \n",
       "427   #Banda बाइक अनियंत्रित होकर खड़े ट्रक से टकराई...      0  \n",
       "1310  प्रणब दा को आखिरी विदाई LIVE: मोदी, राजनाथ और ...      0  \n",
       "203   आठवले की सिब्बल व आजाद को सलाह, सालों तक सत्ता...      0  \n",
       "1185  भारत के सैनिकों ने हमें बहुत मारा ! लेकिन घसीट...      1  \n",
       "1257  आपको शैतान ने गुमराह कर दिया है जनाब। चुसलाम श...      1  \n",
       "405   Gold Price Today: गिरावट की वजह से सोने की चमक...      0  \n",
       "950   रफ्तार के शौकीनों के लिए Triumph भारत में अपनी...      0  \n",
       "783   उत्‍तर प्रदेश में दुकानें सुबह नौ से रात नौ बज...      0  \n",
       "451   facebook.com/pramod.singh.7127146 ये प्रमोद सि...      1  "
      ]
     },
     "execution_count": 42,
     "metadata": {},
     "output_type": "execute_result"
    }
   ],
   "source": [
    "test.sample(10)"
   ]
  },
  {
   "cell_type": "code",
   "execution_count": 43,
   "metadata": {
    "execution": {
     "iopub.execute_input": "2020-12-10T08:54:41.138412Z",
     "iopub.status.busy": "2020-12-10T08:54:41.138227Z",
     "iopub.status.idle": "2020-12-10T08:54:41.140973Z",
     "shell.execute_reply": "2020-12-10T08:54:41.140290Z",
     "shell.execute_reply.started": "2020-12-10T08:54:41.138388Z"
    }
   },
   "outputs": [],
   "source": [
    "# def label_decode(val):\n",
    "#     return labels[val]\n",
    "# test.label = test.label.apply(label_decode)"
   ]
  },
  {
   "cell_type": "code",
   "execution_count": 44,
   "metadata": {
    "execution": {
     "iopub.execute_input": "2020-12-10T08:54:44.398953Z",
     "iopub.status.busy": "2020-12-10T08:54:44.398801Z",
     "iopub.status.idle": "2020-12-10T08:54:44.422758Z",
     "shell.execute_reply": "2020-12-10T08:54:44.422359Z",
     "shell.execute_reply.started": "2020-12-10T08:54:44.398934Z"
    }
   },
   "outputs": [],
   "source": [
    "\n",
    "test.to_csv(path_or_buf=lab+'.txt', index=False, columns = ['tweet_id', 'label'] )"
   ]
  },
  {
   "cell_type": "code",
   "execution_count": null,
   "metadata": {},
   "outputs": [],
   "source": []
  }
 ],
 "metadata": {
  "kernelspec": {
   "display_name": "Python 3",
   "language": "python",
   "name": "python3"
  },
  "language_info": {
   "codemirror_mode": {
    "name": "ipython",
    "version": 3
   },
   "file_extension": ".py",
   "mimetype": "text/x-python",
   "name": "python",
   "nbconvert_exporter": "python",
   "pygments_lexer": "ipython3",
   "version": "3.9.1"
  }
 },
 "nbformat": 4,
 "nbformat_minor": 4
}
